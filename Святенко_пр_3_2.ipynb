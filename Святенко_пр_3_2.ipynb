{
 "cells": [
  {
   "cell_type": "markdown",
   "id": "52c750f1",
   "metadata": {},
   "source": [
    "Варіант №21\n",
    "\n",
    "Посилання на Github: https://github.com/DSviatenko/machine-learning"
   ]
  },
  {
   "cell_type": "code",
   "execution_count": 17,
   "id": "3fcaec7f",
   "metadata": {},
   "outputs": [],
   "source": [
    "import pandas as pd\n",
    "import numpy as np"
   ]
  },
  {
   "cell_type": "markdown",
   "id": "dbcaaa27",
   "metadata": {},
   "source": [
    "1. Прочитайте csv файл (метод read_csv) "
   ]
  },
  {
   "cell_type": "code",
   "execution_count": 18,
   "id": "ca92f80f",
   "metadata": {},
   "outputs": [
    {
     "data": {
      "text/html": [
       "<div>\n",
       "<style scoped>\n",
       "    .dataframe tbody tr th:only-of-type {\n",
       "        vertical-align: middle;\n",
       "    }\n",
       "\n",
       "    .dataframe tbody tr th {\n",
       "        vertical-align: top;\n",
       "    }\n",
       "\n",
       "    .dataframe thead th {\n",
       "        text-align: right;\n",
       "    }\n",
       "</style>\n",
       "<table border=\"1\" class=\"dataframe\">\n",
       "  <thead>\n",
       "    <tr style=\"text-align: right;\">\n",
       "      <th></th>\n",
       "      <th>Name</th>\n",
       "      <th>Author</th>\n",
       "      <th>User Rating</th>\n",
       "      <th>Reviews</th>\n",
       "      <th>Price</th>\n",
       "      <th>Year</th>\n",
       "      <th>Genre</th>\n",
       "    </tr>\n",
       "  </thead>\n",
       "  <tbody>\n",
       "    <tr>\n",
       "      <th>0</th>\n",
       "      <td>10-Day Green Smoothie Cleanse</td>\n",
       "      <td>JJ Smith</td>\n",
       "      <td>4.7</td>\n",
       "      <td>17350</td>\n",
       "      <td>8</td>\n",
       "      <td>2016</td>\n",
       "      <td>Non Fiction</td>\n",
       "    </tr>\n",
       "    <tr>\n",
       "      <th>1</th>\n",
       "      <td>11/22/63: A Novel</td>\n",
       "      <td>Stephen King</td>\n",
       "      <td>4.6</td>\n",
       "      <td>2052</td>\n",
       "      <td>22</td>\n",
       "      <td>2011</td>\n",
       "      <td>Fiction</td>\n",
       "    </tr>\n",
       "    <tr>\n",
       "      <th>2</th>\n",
       "      <td>12 Rules for Life: An Antidote to Chaos</td>\n",
       "      <td>Jordan B. Peterson</td>\n",
       "      <td>4.7</td>\n",
       "      <td>18979</td>\n",
       "      <td>15</td>\n",
       "      <td>2018</td>\n",
       "      <td>Non Fiction</td>\n",
       "    </tr>\n",
       "    <tr>\n",
       "      <th>3</th>\n",
       "      <td>1984 (Signet Classics)</td>\n",
       "      <td>George Orwell</td>\n",
       "      <td>4.7</td>\n",
       "      <td>21424</td>\n",
       "      <td>6</td>\n",
       "      <td>2017</td>\n",
       "      <td>Fiction</td>\n",
       "    </tr>\n",
       "    <tr>\n",
       "      <th>4</th>\n",
       "      <td>5,000 Awesome Facts (About Everything!) (Natio...</td>\n",
       "      <td>National Geographic Kids</td>\n",
       "      <td>4.8</td>\n",
       "      <td>7665</td>\n",
       "      <td>12</td>\n",
       "      <td>2019</td>\n",
       "      <td>Non Fiction</td>\n",
       "    </tr>\n",
       "    <tr>\n",
       "      <th>...</th>\n",
       "      <td>...</td>\n",
       "      <td>...</td>\n",
       "      <td>...</td>\n",
       "      <td>...</td>\n",
       "      <td>...</td>\n",
       "      <td>...</td>\n",
       "      <td>...</td>\n",
       "    </tr>\n",
       "    <tr>\n",
       "      <th>545</th>\n",
       "      <td>Wrecking Ball (Diary of a Wimpy Kid Book 14)</td>\n",
       "      <td>Jeff Kinney</td>\n",
       "      <td>4.9</td>\n",
       "      <td>9413</td>\n",
       "      <td>8</td>\n",
       "      <td>2019</td>\n",
       "      <td>Fiction</td>\n",
       "    </tr>\n",
       "    <tr>\n",
       "      <th>546</th>\n",
       "      <td>You Are a Badass: How to Stop Doubting Your Gr...</td>\n",
       "      <td>Jen Sincero</td>\n",
       "      <td>4.7</td>\n",
       "      <td>14331</td>\n",
       "      <td>8</td>\n",
       "      <td>2016</td>\n",
       "      <td>Non Fiction</td>\n",
       "    </tr>\n",
       "    <tr>\n",
       "      <th>547</th>\n",
       "      <td>You Are a Badass: How to Stop Doubting Your Gr...</td>\n",
       "      <td>Jen Sincero</td>\n",
       "      <td>4.7</td>\n",
       "      <td>14331</td>\n",
       "      <td>8</td>\n",
       "      <td>2017</td>\n",
       "      <td>Non Fiction</td>\n",
       "    </tr>\n",
       "    <tr>\n",
       "      <th>548</th>\n",
       "      <td>You Are a Badass: How to Stop Doubting Your Gr...</td>\n",
       "      <td>Jen Sincero</td>\n",
       "      <td>4.7</td>\n",
       "      <td>14331</td>\n",
       "      <td>8</td>\n",
       "      <td>2018</td>\n",
       "      <td>Non Fiction</td>\n",
       "    </tr>\n",
       "    <tr>\n",
       "      <th>549</th>\n",
       "      <td>You Are a Badass: How to Stop Doubting Your Gr...</td>\n",
       "      <td>Jen Sincero</td>\n",
       "      <td>4.7</td>\n",
       "      <td>14331</td>\n",
       "      <td>8</td>\n",
       "      <td>2019</td>\n",
       "      <td>Non Fiction</td>\n",
       "    </tr>\n",
       "  </tbody>\n",
       "</table>\n",
       "<p>550 rows × 7 columns</p>\n",
       "</div>"
      ],
      "text/plain": [
       "                                                  Name  \\\n",
       "0                        10-Day Green Smoothie Cleanse   \n",
       "1                                    11/22/63: A Novel   \n",
       "2              12 Rules for Life: An Antidote to Chaos   \n",
       "3                               1984 (Signet Classics)   \n",
       "4    5,000 Awesome Facts (About Everything!) (Natio...   \n",
       "..                                                 ...   \n",
       "545       Wrecking Ball (Diary of a Wimpy Kid Book 14)   \n",
       "546  You Are a Badass: How to Stop Doubting Your Gr...   \n",
       "547  You Are a Badass: How to Stop Doubting Your Gr...   \n",
       "548  You Are a Badass: How to Stop Doubting Your Gr...   \n",
       "549  You Are a Badass: How to Stop Doubting Your Gr...   \n",
       "\n",
       "                       Author  User Rating  Reviews  Price  Year        Genre  \n",
       "0                    JJ Smith          4.7    17350      8  2016  Non Fiction  \n",
       "1                Stephen King          4.6     2052     22  2011      Fiction  \n",
       "2          Jordan B. Peterson          4.7    18979     15  2018  Non Fiction  \n",
       "3               George Orwell          4.7    21424      6  2017      Fiction  \n",
       "4    National Geographic Kids          4.8     7665     12  2019  Non Fiction  \n",
       "..                        ...          ...      ...    ...   ...          ...  \n",
       "545               Jeff Kinney          4.9     9413      8  2019      Fiction  \n",
       "546               Jen Sincero          4.7    14331      8  2016  Non Fiction  \n",
       "547               Jen Sincero          4.7    14331      8  2017  Non Fiction  \n",
       "548               Jen Sincero          4.7    14331      8  2018  Non Fiction  \n",
       "549               Jen Sincero          4.7    14331      8  2019  Non Fiction  \n",
       "\n",
       "[550 rows x 7 columns]"
      ]
     },
     "execution_count": 18,
     "metadata": {},
     "output_type": "execute_result"
    }
   ],
   "source": [
    "data = pd.read_csv(\"bestsellers with categories.csv\", encoding='latin1')\n",
    "data"
   ]
  },
  {
   "cell_type": "markdown",
   "id": "e28c6b8d",
   "metadata": {},
   "source": [
    "2. Виведіть перші 10 рядків (метод head)"
   ]
  },
  {
   "cell_type": "code",
   "execution_count": 19,
   "id": "01128910",
   "metadata": {},
   "outputs": [
    {
     "name": "stdout",
     "output_type": "stream",
     "text": [
      "                                                Name  \\\n",
      "0                      10-Day Green Smoothie Cleanse   \n",
      "1                                  11/22/63: A Novel   \n",
      "2            12 Rules for Life: An Antidote to Chaos   \n",
      "3                             1984 (Signet Classics)   \n",
      "4  5,000 Awesome Facts (About Everything!) (Natio...   \n",
      "5      A Dance with Dragons (A Song of Ice and Fire)   \n",
      "6  A Game of Thrones / A Clash of Kings / A Storm...   \n",
      "7                     A Gentleman in Moscow: A Novel   \n",
      "8      A Higher Loyalty: Truth, Lies, and Leadership   \n",
      "9                          A Man Called Ove: A Novel   \n",
      "\n",
      "                     Author  User Rating  Reviews  Price  Year        Genre  \n",
      "0                  JJ Smith          4.7    17350      8  2016  Non Fiction  \n",
      "1              Stephen King          4.6     2052     22  2011      Fiction  \n",
      "2        Jordan B. Peterson          4.7    18979     15  2018  Non Fiction  \n",
      "3             George Orwell          4.7    21424      6  2017      Fiction  \n",
      "4  National Geographic Kids          4.8     7665     12  2019  Non Fiction  \n",
      "5       George R. R. Martin          4.4    12643     11  2011      Fiction  \n",
      "6       George R. R. Martin          4.7    19735     30  2014      Fiction  \n",
      "7               Amor Towles          4.7    19699     15  2017      Fiction  \n",
      "8               James Comey          4.7     5983      3  2018  Non Fiction  \n",
      "9           Fredrik Backman          4.6    23848      8  2016      Fiction  \n"
     ]
    }
   ],
   "source": [
    "print(data.head(10))"
   ]
  },
  {
   "cell_type": "markdown",
   "id": "6b0ef9bb",
   "metadata": {},
   "source": [
    "3. Виведіть розміри датасету (метод shape)"
   ]
  },
  {
   "cell_type": "code",
   "execution_count": 20,
   "id": "3e29bb24",
   "metadata": {},
   "outputs": [
    {
     "name": "stdout",
     "output_type": "stream",
     "text": [
      "(550, 7)\n"
     ]
    }
   ],
   "source": [
    "print(data.shape)"
   ]
  },
  {
   "cell_type": "markdown",
   "id": "074a14d9",
   "metadata": {},
   "source": [
    "**Питання:** Про скільки книг зберігає дані датасет?"
   ]
  },
  {
   "cell_type": "markdown",
   "id": "6a639db6",
   "metadata": {},
   "source": [
    "***Відповідь:*** *550*"
   ]
  },
  {
   "cell_type": "markdown",
   "id": "0918971e",
   "metadata": {},
   "source": [
    "4. Змініть назви всіх колонок: назва з маленької букви, без пробілів через підкреслення"
   ]
  },
  {
   "cell_type": "code",
   "execution_count": 21,
   "id": "ab066f90",
   "metadata": {},
   "outputs": [
    {
     "data": {
      "text/html": [
       "<div>\n",
       "<style scoped>\n",
       "    .dataframe tbody tr th:only-of-type {\n",
       "        vertical-align: middle;\n",
       "    }\n",
       "\n",
       "    .dataframe tbody tr th {\n",
       "        vertical-align: top;\n",
       "    }\n",
       "\n",
       "    .dataframe thead th {\n",
       "        text-align: right;\n",
       "    }\n",
       "</style>\n",
       "<table border=\"1\" class=\"dataframe\">\n",
       "  <thead>\n",
       "    <tr style=\"text-align: right;\">\n",
       "      <th></th>\n",
       "      <th>name</th>\n",
       "      <th>author</th>\n",
       "      <th>user_rating</th>\n",
       "      <th>reviews</th>\n",
       "      <th>price</th>\n",
       "      <th>year</th>\n",
       "      <th>genre</th>\n",
       "    </tr>\n",
       "  </thead>\n",
       "  <tbody>\n",
       "    <tr>\n",
       "      <th>0</th>\n",
       "      <td>10-Day Green Smoothie Cleanse</td>\n",
       "      <td>JJ Smith</td>\n",
       "      <td>4.7</td>\n",
       "      <td>17350</td>\n",
       "      <td>8</td>\n",
       "      <td>2016</td>\n",
       "      <td>Non Fiction</td>\n",
       "    </tr>\n",
       "    <tr>\n",
       "      <th>1</th>\n",
       "      <td>11/22/63: A Novel</td>\n",
       "      <td>Stephen King</td>\n",
       "      <td>4.6</td>\n",
       "      <td>2052</td>\n",
       "      <td>22</td>\n",
       "      <td>2011</td>\n",
       "      <td>Fiction</td>\n",
       "    </tr>\n",
       "    <tr>\n",
       "      <th>2</th>\n",
       "      <td>12 Rules for Life: An Antidote to Chaos</td>\n",
       "      <td>Jordan B. Peterson</td>\n",
       "      <td>4.7</td>\n",
       "      <td>18979</td>\n",
       "      <td>15</td>\n",
       "      <td>2018</td>\n",
       "      <td>Non Fiction</td>\n",
       "    </tr>\n",
       "    <tr>\n",
       "      <th>3</th>\n",
       "      <td>1984 (Signet Classics)</td>\n",
       "      <td>George Orwell</td>\n",
       "      <td>4.7</td>\n",
       "      <td>21424</td>\n",
       "      <td>6</td>\n",
       "      <td>2017</td>\n",
       "      <td>Fiction</td>\n",
       "    </tr>\n",
       "    <tr>\n",
       "      <th>4</th>\n",
       "      <td>5,000 Awesome Facts (About Everything!) (Natio...</td>\n",
       "      <td>National Geographic Kids</td>\n",
       "      <td>4.8</td>\n",
       "      <td>7665</td>\n",
       "      <td>12</td>\n",
       "      <td>2019</td>\n",
       "      <td>Non Fiction</td>\n",
       "    </tr>\n",
       "    <tr>\n",
       "      <th>...</th>\n",
       "      <td>...</td>\n",
       "      <td>...</td>\n",
       "      <td>...</td>\n",
       "      <td>...</td>\n",
       "      <td>...</td>\n",
       "      <td>...</td>\n",
       "      <td>...</td>\n",
       "    </tr>\n",
       "    <tr>\n",
       "      <th>545</th>\n",
       "      <td>Wrecking Ball (Diary of a Wimpy Kid Book 14)</td>\n",
       "      <td>Jeff Kinney</td>\n",
       "      <td>4.9</td>\n",
       "      <td>9413</td>\n",
       "      <td>8</td>\n",
       "      <td>2019</td>\n",
       "      <td>Fiction</td>\n",
       "    </tr>\n",
       "    <tr>\n",
       "      <th>546</th>\n",
       "      <td>You Are a Badass: How to Stop Doubting Your Gr...</td>\n",
       "      <td>Jen Sincero</td>\n",
       "      <td>4.7</td>\n",
       "      <td>14331</td>\n",
       "      <td>8</td>\n",
       "      <td>2016</td>\n",
       "      <td>Non Fiction</td>\n",
       "    </tr>\n",
       "    <tr>\n",
       "      <th>547</th>\n",
       "      <td>You Are a Badass: How to Stop Doubting Your Gr...</td>\n",
       "      <td>Jen Sincero</td>\n",
       "      <td>4.7</td>\n",
       "      <td>14331</td>\n",
       "      <td>8</td>\n",
       "      <td>2017</td>\n",
       "      <td>Non Fiction</td>\n",
       "    </tr>\n",
       "    <tr>\n",
       "      <th>548</th>\n",
       "      <td>You Are a Badass: How to Stop Doubting Your Gr...</td>\n",
       "      <td>Jen Sincero</td>\n",
       "      <td>4.7</td>\n",
       "      <td>14331</td>\n",
       "      <td>8</td>\n",
       "      <td>2018</td>\n",
       "      <td>Non Fiction</td>\n",
       "    </tr>\n",
       "    <tr>\n",
       "      <th>549</th>\n",
       "      <td>You Are a Badass: How to Stop Doubting Your Gr...</td>\n",
       "      <td>Jen Sincero</td>\n",
       "      <td>4.7</td>\n",
       "      <td>14331</td>\n",
       "      <td>8</td>\n",
       "      <td>2019</td>\n",
       "      <td>Non Fiction</td>\n",
       "    </tr>\n",
       "  </tbody>\n",
       "</table>\n",
       "<p>550 rows × 7 columns</p>\n",
       "</div>"
      ],
      "text/plain": [
       "                                                  name  \\\n",
       "0                        10-Day Green Smoothie Cleanse   \n",
       "1                                    11/22/63: A Novel   \n",
       "2              12 Rules for Life: An Antidote to Chaos   \n",
       "3                               1984 (Signet Classics)   \n",
       "4    5,000 Awesome Facts (About Everything!) (Natio...   \n",
       "..                                                 ...   \n",
       "545       Wrecking Ball (Diary of a Wimpy Kid Book 14)   \n",
       "546  You Are a Badass: How to Stop Doubting Your Gr...   \n",
       "547  You Are a Badass: How to Stop Doubting Your Gr...   \n",
       "548  You Are a Badass: How to Stop Doubting Your Gr...   \n",
       "549  You Are a Badass: How to Stop Doubting Your Gr...   \n",
       "\n",
       "                       author  user_rating  reviews  price  year        genre  \n",
       "0                    JJ Smith          4.7    17350      8  2016  Non Fiction  \n",
       "1                Stephen King          4.6     2052     22  2011      Fiction  \n",
       "2          Jordan B. Peterson          4.7    18979     15  2018  Non Fiction  \n",
       "3               George Orwell          4.7    21424      6  2017      Fiction  \n",
       "4    National Geographic Kids          4.8     7665     12  2019  Non Fiction  \n",
       "..                        ...          ...      ...    ...   ...          ...  \n",
       "545               Jeff Kinney          4.9     9413      8  2019      Fiction  \n",
       "546               Jen Sincero          4.7    14331      8  2016  Non Fiction  \n",
       "547               Jen Sincero          4.7    14331      8  2017  Non Fiction  \n",
       "548               Jen Sincero          4.7    14331      8  2018  Non Fiction  \n",
       "549               Jen Sincero          4.7    14331      8  2019  Non Fiction  \n",
       "\n",
       "[550 rows x 7 columns]"
      ]
     },
     "execution_count": 21,
     "metadata": {},
     "output_type": "execute_result"
    }
   ],
   "source": [
    "data.columns = ['name', 'author', 'user_rating', 'reviews', 'price', 'year', 'genre'] \n",
    "data"
   ]
  },
  {
   "cell_type": "markdown",
   "id": "0cbc54b8",
   "metadata": {},
   "source": [
    "5. Вивести кількість пропусків у кожному стовпчику. "
   ]
  },
  {
   "cell_type": "code",
   "execution_count": 22,
   "id": "c64012c4",
   "metadata": {},
   "outputs": [
    {
     "name": "stdout",
     "output_type": "stream",
     "text": [
      "The amount of gaps in each column:\n",
      " name           0.0\n",
      "author         0.0\n",
      "user_rating    0.0\n",
      "reviews        0.0\n",
      "price          0.0\n",
      "year           0.0\n",
      "genre          0.0\n",
      "dtype: float64\n"
     ]
    }
   ],
   "source": [
    "data_miss = data.isna().sum()/len(data)*100\n",
    "print(f\"The amount of gaps in each column:\\n\", data_miss)"
   ]
  },
  {
   "cell_type": "markdown",
   "id": "1fdadeae",
   "metadata": {},
   "source": [
    "**Питання:** Чи є в якихось змінних пропуски? (Так / ні) "
   ]
  },
  {
   "cell_type": "markdown",
   "id": "c9d4bd8a",
   "metadata": {},
   "source": [
    "***Відповідь:*** *Ні*"
   ]
  },
  {
   "cell_type": "markdown",
   "id": "78aeed5e",
   "metadata": {},
   "source": [
    "6. За допомогою методу unique  перевірте. Які є унікальні жанри в стовпці genre  "
   ]
  },
  {
   "cell_type": "code",
   "execution_count": 23,
   "id": "971a31b7",
   "metadata": {},
   "outputs": [
    {
     "name": "stdout",
     "output_type": "stream",
     "text": [
      "Unique genres: ['Non Fiction' 'Fiction']\n"
     ]
    }
   ],
   "source": [
    "unique_genres = data['genre'].unique()\n",
    "print(\"Unique genres:\", unique_genres)"
   ]
  },
  {
   "cell_type": "markdown",
   "id": "9330ccd2",
   "metadata": {},
   "source": [
    "**Питання:** Які є унікальні жанри? "
   ]
  },
  {
   "cell_type": "markdown",
   "id": "139de878",
   "metadata": {},
   "source": [
    "***Відповідь:*** *'Non Fiction' 'Fiction'*"
   ]
  },
  {
   "cell_type": "markdown",
   "id": "648dc013",
   "metadata": {},
   "source": [
    "7. Визначте максимальну, мінімальну, медіанну ціну за допомогою методів  max, min, mean, median"
   ]
  },
  {
   "cell_type": "code",
   "execution_count": 24,
   "id": "9a019279",
   "metadata": {},
   "outputs": [
    {
     "name": "stdout",
     "output_type": "stream",
     "text": [
      "Max price is:  105\n",
      "Min price is:  0\n",
      "Mean price is:  13.1\n",
      "Median price is:  11.0\n"
     ]
    }
   ],
   "source": [
    "max_price = data['price'].max()\n",
    "min_price = data['price'].min()\n",
    "mean_price = data['price'].mean()\n",
    "median_price = data['price'].median()\n",
    "\n",
    "print(f\"Max price is: \", max_price)\n",
    "print(f\"Min price is: \", min_price)\n",
    "print(f\"Mean price is: \", mean_price)\n",
    "print(f\"Median price is: \", median_price)"
   ]
  },
  {
   "cell_type": "markdown",
   "id": "3eb81a9d",
   "metadata": {},
   "source": [
    "**Питання:** Максимальна ціна?"
   ]
  },
  {
   "cell_type": "markdown",
   "id": "9756728a",
   "metadata": {},
   "source": [
    "***Відповідь:*** *105*"
   ]
  },
  {
   "cell_type": "markdown",
   "id": "57f27c86",
   "metadata": {},
   "source": [
    "**Питання:** Мінімальна ціна? "
   ]
  },
  {
   "cell_type": "markdown",
   "id": "ae724675",
   "metadata": {},
   "source": [
    "***Відповідь:*** *0*"
   ]
  },
  {
   "cell_type": "markdown",
   "id": "61692ddd",
   "metadata": {},
   "source": [
    "**Питання:** Середня ціна? "
   ]
  },
  {
   "cell_type": "markdown",
   "id": "06b3d0ed",
   "metadata": {},
   "source": [
    "***Відповідь:*** *13.1*"
   ]
  },
  {
   "cell_type": "markdown",
   "id": "980a167c",
   "metadata": {},
   "source": [
    "**Питання:** Медіанна ціна? "
   ]
  },
  {
   "cell_type": "markdown",
   "id": "0a47911e",
   "metadata": {},
   "source": [
    "***Відповідь:*** *11*"
   ]
  },
  {
   "cell_type": "markdown",
   "id": "830cca6d",
   "metadata": {},
   "source": [
    "8. Виконайте наступні завдання з пошуку і сортування даних"
   ]
  },
  {
   "cell_type": "markdown",
   "id": "51cdc6b6",
   "metadata": {},
   "source": [
    "а) **Питання:** Який рейтинг у датасеті найвищий? "
   ]
  },
  {
   "cell_type": "code",
   "execution_count": 25,
   "id": "b55a4d92",
   "metadata": {},
   "outputs": [
    {
     "name": "stdout",
     "output_type": "stream",
     "text": [
      "Max price is:  4.9\n"
     ]
    }
   ],
   "source": [
    "max_rating = data['user_rating'].max()\n",
    "print(f\"Max price is: \", max_rating)"
   ]
  },
  {
   "cell_type": "markdown",
   "id": "00bcdfb5",
   "metadata": {},
   "source": [
    "б) **Питання:** Скільки книг мають такий рейтинг?"
   ]
  },
  {
   "cell_type": "code",
   "execution_count": 26,
   "id": "28770af7",
   "metadata": {},
   "outputs": [
    {
     "name": "stdout",
     "output_type": "stream",
     "text": [
      "The amount of books with this rating:  52\n"
     ]
    }
   ],
   "source": [
    "amount_of_books = data[data['user_rating'] == max_rating]['name'].count()\n",
    "print(f\"The amount of books with this rating: \", amount_of_books)"
   ]
  },
  {
   "cell_type": "markdown",
   "id": "e33012c2",
   "metadata": {},
   "source": [
    "в) **Питання:** Яка книга має найбільше відгуків?"
   ]
  },
  {
   "cell_type": "code",
   "execution_count": 27,
   "id": "a72eb623",
   "metadata": {},
   "outputs": [
    {
     "name": "stdout",
     "output_type": "stream",
     "text": [
      "Name of the book with most reviews:  Where the Crawdads Sing\n"
     ]
    }
   ],
   "source": [
    "max_reviews = data['reviews'].idxmax()\n",
    "name_of_book = data.loc[max_reviews, 'name']\n",
    "print(f\"Name of the book with most reviews: \", name_of_book)"
   ]
  },
  {
   "cell_type": "markdown",
   "id": "117afcc8",
   "metadata": {},
   "source": [
    "г) **Питання:** З тих книг, що потрапили до Топ-50 у 2010 році, яка книга найдорожча ?"
   ]
  },
  {
   "cell_type": "code",
   "execution_count": 28,
   "id": "220e3906",
   "metadata": {},
   "outputs": [
    {
     "name": "stdout",
     "output_type": "stream",
     "text": [
      "The most expensive book:\n",
      "Name:  Publication Manual of the American Psychological Association, 6th Edition\n",
      "Price:  46\n"
     ]
    }
   ],
   "source": [
    "top_50_in_2010 = data[(data['year'] == 2010) & (data['user_rating'] <= 50)]\n",
    "most_expensive_book_2010 = top_50_in_2010.loc[top_50_in_2010['price'].idxmax()]\n",
    "name_of_most_expensive_in_2010 = most_expensive_book_2010['name']\n",
    "price_of_most_expensive_in_2010 = most_expensive_book_2010['price']\n",
    "print(\"The most expensive book:\")\n",
    "print(f\"Name: \", name_of_most_expensive_in_2010)\n",
    "print(f\"Price: \", price_of_most_expensive_in_2010)"
   ]
  },
  {
   "cell_type": "markdown",
   "id": "f57e3473",
   "metadata": {},
   "source": [
    "ґ) **Питання:** Скільки книг жанру Fiction потрапили до Топ-50 у 2012 році"
   ]
  },
  {
   "cell_type": "code",
   "execution_count": 29,
   "id": "7a12db08",
   "metadata": {},
   "outputs": [
    {
     "name": "stdout",
     "output_type": "stream",
     "text": [
      "The number of books with the genre \"Fiction\" among the top 50 in 2012: 21\n"
     ]
    }
   ],
   "source": [
    "top_50_in_2012 = data[(data['year'] == 2012) & (data['user_rating'] <= 50)]\n",
    "fiction_count = len(top_50_in_2012[top_50_in_2012['genre'] == 'Fiction'])\n",
    "print(f'The number of books with the genre \"Fiction\" among the top 50 in 2012:', fiction_count)"
   ]
  },
  {
   "cell_type": "markdown",
   "id": "98ea6941",
   "metadata": {},
   "source": [
    "д) **Питання:** Скільки книг з рейтингом 4.9 потрапило до рейтингу у 2010 та 2011 роках (використовуйте | або метод isin)?"
   ]
  },
  {
   "cell_type": "code",
   "execution_count": 30,
   "id": "f6fd5c04",
   "metadata": {},
   "outputs": [
    {
     "name": "stdout",
     "output_type": "stream",
     "text": [
      "Amount of books with 4.9 rating in 2010 and 2011:  1\n"
     ]
    }
   ],
   "source": [
    "years = (data['year'] == 2010) | (data['year'] == 2011)\n",
    "rating_4_9 = data[years & (data['user_rating'] == 4.9)]\n",
    "amount_of_books = len(rating_4_9)\n",
    "print(f\"Amount of books with 4.9 rating in 2010 and 2011: \", amount_of_books)"
   ]
  },
  {
   "cell_type": "markdown",
   "id": "d1b0bb53",
   "metadata": {},
   "source": [
    "9. Вивести максимальну і  мінімальну ціну для жанру Fiction I NonFiction (за допомогою методів  groupby та agg, для підрахунку мінімальних та максимальних значень використовуйте max та min). Використовуйте тількі потрібні вам стовпці. "
   ]
  },
  {
   "cell_type": "code",
   "execution_count": 31,
   "id": "7ccfa849",
   "metadata": {},
   "outputs": [
    {
     "name": "stdout",
     "output_type": "stream",
     "text": [
      "             min  max\n",
      "genre                \n",
      "Fiction        0   82\n",
      "Non Fiction    0  105\n"
     ]
    }
   ],
   "source": [
    "genre_group = data.groupby('genre')\n",
    "result = genre_group['price'].agg(['min', 'max'])\n",
    "print(result)"
   ]
  },
  {
   "cell_type": "markdown",
   "id": "c63b3afb",
   "metadata": {},
   "source": [
    "***Висновок:***  *на практичній роботі я поглибив знання з мови програмування Python, використовуючи бібліотеку \"pandas\". Протягом роботи я виконував різні завдання: зчитавання CSV файлів та обробки таблиць, виконував пошук мінімальних та максимальних елементів таблиц, виконував підрахунки даних відповідно до заданих обмежень(фільтрів)*"
   ]
  }
 ],
 "metadata": {
  "kernelspec": {
   "display_name": "Python 3 (ipykernel)",
   "language": "python",
   "name": "python3"
  },
  "language_info": {
   "codemirror_mode": {
    "name": "ipython",
    "version": 3
   },
   "file_extension": ".py",
   "mimetype": "text/x-python",
   "name": "python",
   "nbconvert_exporter": "python",
   "pygments_lexer": "ipython3",
   "version": "3.11.4"
  }
 },
 "nbformat": 4,
 "nbformat_minor": 5
}
