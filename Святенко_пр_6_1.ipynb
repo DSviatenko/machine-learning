{
 "cells": [
  {
   "cell_type": "markdown",
   "id": "175c5da4",
   "metadata": {},
   "source": [
    "Варіант №21"
   ]
  },
  {
   "cell_type": "markdown",
   "id": "30761b1d",
   "metadata": {},
   "source": [
    "1. Завантажити набір даних Iris з бібліотеки scikit-learn. "
   ]
  },
  {
   "cell_type": "code",
   "execution_count": 1,
   "id": "ff8e15a4",
   "metadata": {},
   "outputs": [
    {
     "name": "stdout",
     "output_type": "stream",
     "text": [
      ".. _iris_dataset:\n",
      "\n",
      "Iris plants dataset\n",
      "--------------------\n",
      "\n",
      "**Data Set Characteristics:**\n",
      "\n",
      "    :Number of Instances: 150 (50 in each of three classes)\n",
      "    :Number of Attributes: 4 numeric, predictive attributes and the class\n",
      "    :Attribute Information:\n",
      "        - sepal length in cm\n",
      "        - sepal width in cm\n",
      "        - petal length in cm\n",
      "        - petal width in cm\n",
      "        - class:\n",
      "                - Iris-Setosa\n",
      "                - Iris-Versicolour\n",
      "                - Iris-Virginica\n",
      "                \n",
      "    :Summary Statistics:\n",
      "\n",
      "    ============== ==== ==== ======= ===== ====================\n",
      "                    Min  Max   Mean    SD   Class Correlation\n",
      "    ============== ==== ==== ======= ===== ====================\n",
      "    sepal length:   4.3  7.9   5.84   0.83    0.7826\n",
      "    sepal width:    2.0  4.4   3.05   0.43   -0.4194\n",
      "    petal length:   1.0  6.9   3.76   1.76    0.9490  (high!)\n",
      "    petal width:    0.1  2.5   1.20   0.76    0.9565  (high!)\n",
      "    ============== ==== ==== ======= ===== ====================\n",
      "\n",
      "    :Missing Attribute Values: None\n",
      "    :Class Distribution: 33.3% for each of 3 classes.\n",
      "    :Creator: R.A. Fisher\n",
      "    :Donor: Michael Marshall (MARSHALL%PLU@io.arc.nasa.gov)\n",
      "    :Date: July, 1988\n",
      "\n",
      "The famous Iris database, first used by Sir R.A. Fisher. The dataset is taken\n",
      "from Fisher's paper. Note that it's the same as in R, but not as in the UCI\n",
      "Machine Learning Repository, which has two wrong data points.\n",
      "\n",
      "This is perhaps the best known database to be found in the\n",
      "pattern recognition literature.  Fisher's paper is a classic in the field and\n",
      "is referenced frequently to this day.  (See Duda & Hart, for example.)  The\n",
      "data set contains 3 classes of 50 instances each, where each class refers to a\n",
      "type of iris plant.  One class is linearly separable from the other 2; the\n",
      "latter are NOT linearly separable from each other.\n",
      "\n",
      ".. topic:: References\n",
      "\n",
      "   - Fisher, R.A. \"The use of multiple measurements in taxonomic problems\"\n",
      "     Annual Eugenics, 7, Part II, 179-188 (1936); also in \"Contributions to\n",
      "     Mathematical Statistics\" (John Wiley, NY, 1950).\n",
      "   - Duda, R.O., & Hart, P.E. (1973) Pattern Classification and Scene Analysis.\n",
      "     (Q327.D83) John Wiley & Sons.  ISBN 0-471-22361-1.  See page 218.\n",
      "   - Dasarathy, B.V. (1980) \"Nosing Around the Neighborhood: A New System\n",
      "     Structure and Classification Rule for Recognition in Partially Exposed\n",
      "     Environments\".  IEEE Transactions on Pattern Analysis and Machine\n",
      "     Intelligence, Vol. PAMI-2, No. 1, 67-71.\n",
      "   - Gates, G.W. (1972) \"The Reduced Nearest Neighbor Rule\".  IEEE Transactions\n",
      "     on Information Theory, May 1972, 431-433.\n",
      "   - See also: 1988 MLC Proceedings, 54-64.  Cheeseman et al\"s AUTOCLASS II\n",
      "     conceptual clustering system finds 3 classes in the data.\n",
      "   - Many, many more ...\n"
     ]
    }
   ],
   "source": [
    "from sklearn import datasets\n",
    "from sklearn.model_selection import train_test_split\n",
    "from sklearn.svm import SVC\n",
    "from sklearn.ensemble import RandomForestClassifier\n",
    "from sklearn.metrics import accuracy_score\n",
    "import matplotlib.pyplot as plt\n",
    "\n",
    "iris = datasets.load_iris()\n",
    "print(iris.DESCR)"
   ]
  },
  {
   "cell_type": "markdown",
   "id": "48ed6084",
   "metadata": {},
   "source": [
    "2. Розділити дані на тренувальний та тестовий набори."
   ]
  },
  {
   "cell_type": "code",
   "execution_count": 2,
   "id": "8d450a4c",
   "metadata": {},
   "outputs": [],
   "source": [
    "X = iris.data\n",
    "y = iris.target\n",
    "\n",
    "X_train, X_test, y_train, y_test = train_test_split(X, y, test_size=0.2, random_state=42)"
   ]
  },
  {
   "cell_type": "markdown",
   "id": "0dd93f5b",
   "metadata": {},
   "source": [
    "3. Застосувати алгоритм SVM для класифікації даних та визначити його точність. "
   ]
  },
  {
   "cell_type": "code",
   "execution_count": 4,
   "id": "db792dff",
   "metadata": {},
   "outputs": [],
   "source": [
    "svm_cl = SVC(kernel='linear')\n",
    "svm_cl.fit(X_train, y_train)\n",
    "svm_pred = svm_cl.predict(X_test)\n",
    "svm_accuracy = accuracy_score(y_test, svm_pred)"
   ]
  },
  {
   "cell_type": "markdown",
   "id": "54c11f37",
   "metadata": {},
   "source": [
    "4. Застосувати Random Forest для класифікації даних та визначити його точність."
   ]
  },
  {
   "cell_type": "code",
   "execution_count": 5,
   "id": "3e6fa083",
   "metadata": {},
   "outputs": [],
   "source": [
    "rf_cl = RandomForestClassifier(random_state=42)\n",
    "rf_cl.fit(X_train, y_train)\n",
    "rf_pred = rf_cl.predict(X_test)\n",
    "rf_accuracy = accuracy_score(y_test, rf_pred)"
   ]
  },
  {
   "cell_type": "markdown",
   "id": "35057565",
   "metadata": {},
   "source": [
    "5. Порівняти результати обох алгоритмів та обговорити їхню ефективність."
   ]
  },
  {
   "cell_type": "code",
   "execution_count": 8,
   "id": "9172f5b1",
   "metadata": {},
   "outputs": [
    {
     "name": "stdout",
     "output_type": "stream",
     "text": [
      "Точність за допомогою алгоритму SVM: 1.0\n",
      "Точність за допомогою Random Forest: 1.0\n"
     ]
    }
   ],
   "source": [
    "print(\"Точність за допомогою алгоритму SVM:\", svm_accuracy)\n",
    "print(\"Точність за допомогою Random Forest:\", rf_accuracy)"
   ]
  },
  {
   "cell_type": "markdown",
   "id": "687e6799",
   "metadata": {},
   "source": [
    "Алгоритми SVM та Forest одинаково ефективні"
   ]
  },
  {
   "cell_type": "markdown",
   "id": "fd86b454",
   "metadata": {},
   "source": [
    "**Висновок:**  *на практичній роботі я поглибив знання з мови програмування Python, використовуючи бібліотеку \"scikit-learn\". Протягом роботи я застосовував алгоритми SVM і Random Forest та проводив їх класифікацію*"
   ]
  }
 ],
 "metadata": {
  "kernelspec": {
   "display_name": "Python 3 (ipykernel)",
   "language": "python",
   "name": "python3"
  },
  "language_info": {
   "codemirror_mode": {
    "name": "ipython",
    "version": 3
   },
   "file_extension": ".py",
   "mimetype": "text/x-python",
   "name": "python",
   "nbconvert_exporter": "python",
   "pygments_lexer": "ipython3",
   "version": "3.11.4"
  }
 },
 "nbformat": 4,
 "nbformat_minor": 5
}
