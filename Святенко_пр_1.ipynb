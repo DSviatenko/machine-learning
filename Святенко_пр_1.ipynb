{
  "metadata": {
    "widgets": {
      "application/vnd.jupyter.widget-state+json": {
        "version_major": 2,
        "version_minor": 0,
        "state": {}
      }
    },
    "language_info": {
      "codemirror_mode": {
        "name": "python",
        "version": 3
      },
      "file_extension": ".py",
      "mimetype": "text/x-python",
      "name": "python",
      "nbconvert_exporter": "python",
      "pygments_lexer": "ipython3",
      "version": "3.8"
    },
    "kernelspec": {
      "name": "python",
      "display_name": "Python (Pyodide)",
      "language": "python"
    }
  },
  "nbformat_minor": 4,
  "nbformat": 4,
  "cells": [
    {
      "cell_type": "markdown",
      "source": "Варіант №21\n\nПосилання на Github: https://github.com/DSviatenko/machine-learning",
      "metadata": {}
    },
    {
      "cell_type": "code",
      "source": "import numpy as np",
      "metadata": {
        "trusted": true
      },
      "execution_count": 37,
      "outputs": []
    },
    {
      "cell_type": "markdown",
      "source": "1. Створіть одновимірний масив (вектор) з оберненими значеннями натуральних чисел, починаючи з 1, та виведіть його значення. ",
      "metadata": {}
    },
    {
      "cell_type": "code",
      "source": "vector = []\n\nfor i in range(1, 11):\n    vector.append(1 / i)\n    \nprint(vector)",
      "metadata": {
        "trusted": true
      },
      "execution_count": 38,
      "outputs": [
        {
          "name": "stdout",
          "text": "[1.0, 0.5, 0.3333333333333333, 0.25, 0.2, 0.16666666666666666, 0.14285714285714285, 0.125, 0.1111111111111111, 0.1]\n",
          "output_type": "stream"
        }
      ]
    },
    {
      "cell_type": "markdown",
      "source": "2. Створіть двовимірний масив (матрицю) розміром 3x3, заповніть його косинусами кожного натурального числа, починаючи з 1, та виведіть його значення. ",
      "metadata": {}
    },
    {
      "cell_type": "code",
      "source": "matrix = np.empty((3, 3))\nnumber = 1\n\nfor i in range(0, 3):\n    for j in range(0, 3):\n        matrix[i, j] = np.cos(number)\n        number += 1\n\nprint(matrix)",
      "metadata": {
        "trusted": true
      },
      "execution_count": 39,
      "outputs": [
        {
          "name": "stdout",
          "text": "[[ 0.54030231 -0.41614684 -0.9899925 ]\n [-0.65364362  0.28366219  0.96017029]\n [ 0.75390225 -0.14550003 -0.91113026]]\n",
          "output_type": "stream"
        }
      ]
    },
    {
      "cell_type": "markdown",
      "source": "3. Створіть масив розміром 7x7, заповніть його випадковими цілими числами від -50 до 50 та знайдіть відсоток непарних чисел серед додатних елементів",
      "metadata": {}
    },
    {
      "cell_type": "code",
      "source": "array = np.random.randint(-50, 51, size=(7, 7))\npos_numbers = 0\nodd_pos_numbers = 0\n\nfor i in range(0, 7):\n    for j in range(0, 7):\n        if array[i, j] > 0 :\n            pos_numbers += 1\n            if array[i, j] % 2 == 1:\n                odd_pos_numbers += 1\n\nprint(array, \"- matrix\")\nprint(odd_pos_numbers * 100 / pos_numbers, \"%\")",
      "metadata": {
        "trusted": true
      },
      "execution_count": 40,
      "outputs": [
        {
          "name": "stdout",
          "text": "[[  0 -40  28  33 -30  -8  31]\n [-45   1 -40  43  18 -32 -32]\n [  3 -31 -47  41  28   6 -12]\n [-19 -16  13 -36   8 -22  -1]\n [-39  -9 -13 -36 -28  24  15]\n [ 36 -28 -47 -49   7  25  -1]\n [-19   9 -41 -17  27  32  28]] - matrix\n57.142857142857146 %\n",
          "output_type": "stream"
        }
      ]
    },
    {
      "cell_type": "markdown",
      "source": "4. Створіть масив розміром 4x4, заповніть його випадковими дійсними числами в діапазоні від -0.7 до 0.7 та виведіть його значення. ",
      "metadata": {}
    },
    {
      "cell_type": "code",
      "source": "array = np.random.uniform(-0.7, 0.7, (4,4))\nprint(array)",
      "metadata": {
        "trusted": true
      },
      "execution_count": 41,
      "outputs": [
        {
          "name": "stdout",
          "text": "[[ 0.02770468 -0.49928016  0.43109797 -0.01338197]\n [-0.26304016  0.48561467  0.12299695 -0.47709184]\n [ 0.09209677 -0.62627573 -0.03121326 -0.46735638]\n [ 0.42705334  0.69704721  0.1442488   0.0104988 ]]\n",
          "output_type": "stream"
        }
      ]
    },
    {
      "cell_type": "markdown",
      "source": "5. Створіть два одновимірних масиви розміром 5, заповніть їх випадковими цілими числами в діапазоні від 10 до 20 та виконайте на них поелементні операції додавання, віднімання та множення.",
      "metadata": {}
    },
    {
      "cell_type": "code",
      "source": "a = np.random.randint(10, 20, size=5)\nb = np.random.randint(10, 20, size=5)\n\nprint(a)\nprint(b)\n\nprint(\"a = \", a)\nprint(\"b = \", b)\n\nprint(\"a + b = \", a + b)\nprint(\"a - b = \", a - b)\nprint(\"a * b = \", a * b)",
      "metadata": {
        "trusted": true
      },
      "execution_count": 42,
      "outputs": [
        {
          "name": "stdout",
          "text": "[13 17 17 13 16]\n[10 14 18 19 11]\na =  [13 17 17 13 16]\nb =  [10 14 18 19 11]\na + b =  [23 31 35 32 27]\na - b =  [ 3  3 -1 -6  5]\na * b =  [130 238 306 247 176]\n",
          "output_type": "stream"
        }
      ]
    },
    {
      "cell_type": "markdown",
      "source": "6. Створіть два вектори розміром 6, заповніть їх довільними дійсними числами та знайдіть їх скалярний добуток. ",
      "metadata": {}
    },
    {
      "cell_type": "code",
      "source": "a = np.random.uniform(1, 20, size=7)\nb = np.random.uniform(1, 20, size=7)\n\ndot_a_b = np.dot(a, b)\n\nprint(\"a = \", a)\nprint(\"b = \", b)\nprint(\"result =\", dot_a_b)",
      "metadata": {
        "trusted": true
      },
      "execution_count": 43,
      "outputs": [
        {
          "name": "stdout",
          "text": "a =  [ 5.02735294 17.52636354 14.14949084 12.23717814  3.54550188  1.6944946\n 14.35512702]\nb =  [ 4.01220192 18.93444444  6.7906849   6.51382301  5.50909646  8.50338923\n  4.79070063]\nresult = 630.5308330533934\n",
          "output_type": "stream"
        }
      ]
    },
    {
      "cell_type": "markdown",
      "source": "7. Створіть дві матриці розміром 2x3 та 3x3, заповніть їх випадковими цілими числами в діапазоні від 1 до 10 та перемножте їх між собою.",
      "metadata": {}
    },
    {
      "cell_type": "code",
      "source": "a = np.random.randint(1, 10, size=(2, 3))\nb = np.random.randint(1, 10, size=(3, 3))\n\ndot_a_b = np.dot(a, b)\n\nprint(\"a:\")\nprint(a)\nprint(\"b:\")\nprint(b)\nprint(\"result:\")\nprint(dot_a_b)",
      "metadata": {
        "trusted": true
      },
      "execution_count": 44,
      "outputs": [
        {
          "name": "stdout",
          "text": "a:\n[[1 7 9]\n [5 2 9]]\nb:\n[[6 6 7]\n [7 8 3]\n [8 9 2]]\nresult:\n[[127 143  46]\n [116 127  59]]\n",
          "output_type": "stream"
        }
      ]
    },
    {
      "cell_type": "markdown",
      "source": "8. Створіть матрицю розміром 2x2, заповніть її випадковими цілими числами в діапазоні від 1 до 12 та знайдіть її обернену матрицю. ",
      "metadata": {}
    },
    {
      "cell_type": "code",
      "source": "matrix = np.random.randint(1, 13, size=(2, 2))\n\nprint(\"matrix:\")\nprint(matrix)\n\nif np.linalg.det(matrix) == 0:\n    print(\"matrix contains 0\")\nelse:\n    inv_matrix = np.linalg.inv(matrix)\n    print(\"result:\")\n    print(inv_matrix)",
      "metadata": {
        "trusted": true
      },
      "execution_count": 45,
      "outputs": [
        {
          "name": "stdout",
          "text": "matrix:\n[[ 4 11]\n [ 2  8]]\nresult:\n[[ 0.8 -1.1]\n [-0.2  0.4]]\n",
          "output_type": "stream"
        }
      ]
    },
    {
      "cell_type": "markdown",
      "source": "9. Створіть матрицю розміром 3x3, заповніть її випадковими дійсними числами в діапазоні від 0 до 1 та транспонуйте її",
      "metadata": {}
    },
    {
      "cell_type": "code",
      "source": "matrix = np.random.rand(3, 3)\nprint(\"matrix\")\nprint(matrix)\n\ntrans_matrix = np.transpose(matrix)\nprint(\"result:\")\nprint(trans_matrix)",
      "metadata": {
        "trusted": true
      },
      "execution_count": 46,
      "outputs": [
        {
          "name": "stdout",
          "text": "matrix\n[[0.39366884 0.01426745 0.74045413]\n [0.19109496 0.92979754 0.88131589]\n [0.40054745 0.64918405 0.703881  ]]\nresult:\n[[0.39366884 0.19109496 0.40054745]\n [0.01426745 0.92979754 0.64918405]\n [0.74045413 0.88131589 0.703881  ]]\n",
          "output_type": "stream"
        }
      ]
    },
    {
      "cell_type": "markdown",
      "source": "10. Створіть матрицю розміром 3x4 та вектор розміром 4, заповніть матрицю випадковими цілими числами в діапазоні від 1 до 10, а вектор - випадковими дійсними числами від 0 до 1, і знайдіть суму добутків елементів кожного рядка матриці на відповідний елемент вектору",
      "metadata": {}
    },
    {
      "cell_type": "code",
      "source": "matrix = np.random.randint(1, 11, size=(3, 4))\nvector = np.random.rand(4)\nprint(\"matrix:\")\nprint(matrix)\nprint(\"vector:\")\nprint(vector)\n\nprint(\"result:\")\nresult = np.sum(matrix * vector, axis=1)\nprint(result)",
      "metadata": {
        "trusted": true
      },
      "execution_count": 47,
      "outputs": [
        {
          "name": "stdout",
          "text": "matrix:\n[[3 4 8 1]\n [2 7 4 5]\n [8 4 1 6]]\nvector:\n[0.37786193 0.35258266 0.97400133 0.96989519]\nresult:\n[11.30582225 11.96928375 11.22659859]\n",
          "output_type": "stream"
        }
      ]
    },
    {
      "cell_type": "markdown",
      "source": "11. Створіть матрицю розміром 2x3 та вектор розміром 3, заповніть матрицю випадковими дійсними числами від 0 до 1, а вектор - випадковими цілими числами в діапазоні від 1 до 10, і знайдіть добуток матриці на вектор. ",
      "metadata": {}
    },
    {
      "cell_type": "code",
      "source": "matrix = np.random.rand(2, 3)\nvector = np.random.randint(1, 10, size=3)\nprint(\"matrix:\")\nprint(matrix)\nprint(\"vector:\")\nprint(vector)\n\nprint(\"result:\")\nresult = np.dot(matrix, vector)\nprint(result)",
      "metadata": {
        "trusted": true
      },
      "execution_count": 48,
      "outputs": [
        {
          "name": "stdout",
          "text": "matrix:\n[[0.76225208 0.01272372 0.31650362]\n [0.66168435 0.71069491 0.94225604]]\nvector:\n[2 6 9]\nresult:\n[ 4.44937907 14.06784256]\n",
          "output_type": "stream"
        }
      ]
    },
    {
      "cell_type": "markdown",
      "source": "12. Створіть дві матриці розміром 6x6, заповніть їх випадковими цілими числами в діапазоні від 1 до 10 та знайдіть суму всіх елементів першої матриці. ",
      "metadata": {}
    },
    {
      "cell_type": "code",
      "source": "matrix1 = np.random.randint(1, 11, size=(6, 6))\n\nprint(\"first matrix:\")\nprint(matrix1)\n\nmatrix2 = np.random.randint(1, 11, size=(6, 6))\n\nprint(\"second matrix:\")\nprint(matrix2)\n\nsum_of_elements = np.sum(matrix1)\n\n# Виводимо суму\nprint(\"sum first matrix:\", sum_of_elements)",
      "metadata": {
        "trusted": true
      },
      "execution_count": 49,
      "outputs": [
        {
          "name": "stdout",
          "text": "first matrix:\n[[ 1  5  8  5  9 10]\n [ 8  2  8  7  9  6]\n [ 3  8 10  1 10  2]\n [ 7  6  4  1  1  3]\n [ 4  2  9 10  3  7]\n [ 7  3  9  3  6  2]]\nsecond matrix:\n[[4 5 1 4 6 8]\n [1 2 4 7 1 7]\n [9 4 4 2 1 3]\n [6 9 9 4 3 8]\n [5 1 9 5 1 8]\n [4 9 7 3 1 7]]\nsum first matrix: 199\n",
          "output_type": "stream"
        }
      ]
    },
    {
      "cell_type": "markdown",
      "source": "13. Створіть дві матриці розміром 5x5, заповніть їх випадковими дійсними числами в діапазоні від -2 до 2 та знайдіть добуток їх елементів. ",
      "metadata": {}
    },
    {
      "cell_type": "code",
      "source": "matrix1 = np.random.uniform(-2, 2, size=(5, 5))\nmatrix2 = np.random.uniform(-2, 2, size=(5, 5))\n\nprint(\"first matrix:\")\nprint(matrix1)\nprint(\"second matrix:\")\nprint(matrix2)\n\nproduct = np.prod(matrix1) * np.prod(matrix2)\n\nprint(\"result:\", product)",
      "metadata": {
        "trusted": true
      },
      "execution_count": 50,
      "outputs": [
        {
          "name": "stdout",
          "text": "first matrix:\n[[ 1.11573161 -0.3943107  -1.43311647  1.51974422  0.04227155]\n [ 0.02390264  1.07966898  1.58245429 -1.06695336 -0.8815568 ]\n [ 0.63044407  1.41431036  0.40657907 -1.32941828 -1.28052244]\n [ 1.88239779  0.09292324  0.8993812   1.16141653 -1.76794105]\n [ 0.08134484  1.36601012 -0.82654164  1.69893496 -1.62083106]]\nsecond matrix:\n[[-1.31295648  1.85762013  1.57754493 -1.7236323   1.7127849 ]\n [-0.57290115  1.45627104 -0.35929165  0.9235163   1.36015861]\n [-0.30105394  1.74785328 -1.40032133 -0.87495572 -1.97479126]\n [-0.07756564 -0.39091737 -1.21131615 -0.64570297  1.58330249]\n [ 0.79688813 -1.77756218 -1.21218639  0.58884174 -0.2516972 ]]\nresult: 4.081750722304153e-06\n",
          "output_type": "stream"
        }
      ]
    },
    {
      "cell_type": "markdown",
      "source": "14. Створіть матрицю розміром 7x7, заповніть її випадковими дійсними числами в діапазоні від -10 до 10 та знайдіть найменший елемент матриці",
      "metadata": {}
    },
    {
      "cell_type": "code",
      "source": "matrix = np.random.uniform(-10, 10, size=(7, 7))\n\nprint(\"matrix:\")\nprint(matrix)\n\nmin_element = np.min(matrix)\n\nprint(\"result:\", min_element)",
      "metadata": {
        "trusted": true
      },
      "execution_count": 51,
      "outputs": [
        {
          "name": "stdout",
          "text": "matrix:\n[[-3.41005127  6.81732311  6.34549326  4.10953154 -6.40960063 -2.76036337\n  -0.66852575]\n [-4.51333605  0.66746967 -6.27360674 -6.36982949  8.73216231  6.0470862\n   3.96280001]\n [-0.64322269 -0.49667064  6.94395766 -0.01064689 -0.0131901   0.98904065\n  -5.12765254]\n [-5.14010263  3.65427925  6.06855252  7.50001204  1.84626289 -7.35803956\n  -8.19945277]\n [-6.63844419  1.97632079 -2.36016433  5.83830345  4.75652291  1.60876327\n  -2.45343659]\n [ 3.85339647  8.04841367  3.22231951 -8.96212086  3.36029306 -1.29274331\n  -7.12980661]\n [ 1.14303117 -6.98523838 -2.40959412 -3.26568064  8.55979664  6.93052605\n  -2.72247415]]\nresult: -8.962120855350864\n",
          "output_type": "stream"
        }
      ]
    },
    {
      "cell_type": "markdown",
      "source": "15. Створіть матрицю розміром 7x7, заповніть її випадковими дійсними числами в діапазоні від 0 до 1 та знайдіть вектор-стовпчик, що містить суму елементів кожного стовпця матриці",
      "metadata": {}
    },
    {
      "cell_type": "code",
      "source": "matrix = np.random.rand(7, 7)\n\nprint(\"matrix:\")\nprint(matrix)\n\ncolumn_sums = np.sum(matrix, axis=0)\n\ncol_vec = column_sums.reshape((-1, 1))\n\nprint(\"result:\")\nprint(col_vec)",
      "metadata": {
        "trusted": true
      },
      "execution_count": 52,
      "outputs": [
        {
          "name": "stdout",
          "text": "matrix:\n[[0.90551627 0.03893368 0.6912607  0.93710469 0.17590675 0.09080383\n  0.98415359]\n [0.53532779 0.10781069 0.46474866 0.21961238 0.01898854 0.82390628\n  0.9403028 ]\n [0.80703679 0.86487095 0.7169153  0.72237752 0.54681593 0.87354424\n  0.75018729]\n [0.68683229 0.20814738 0.78084307 0.12638651 0.6807596  0.98022426\n  0.46070368]\n [0.03466058 0.90682145 0.1054248  0.74157533 0.61102005 0.01543623\n  0.74267581]\n [0.10763965 0.97435552 0.87961114 0.68330181 0.20325949 0.24789778\n  0.20089193]\n [0.50956337 0.20495351 0.98350899 0.69349482 0.48808795 0.89510635\n  0.1330229 ]]\nresult:\n[[3.58657675]\n [3.30589318]\n [4.62231266]\n [4.12385307]\n [2.72483833]\n [3.92691896]\n [4.211938  ]]\n",
          "output_type": "stream"
        }
      ]
    },
    {
      "cell_type": "markdown",
      "source": "***Висновок:*** *на практичній роботі я поглибив знання з мови програмування Python, використовуючи бібліотеку \"numpy\". Протягом роботи я виконував різні завдання зі створення, додавання, віднімання, множення матриць та векторів, а також їх елементів.*",
      "metadata": {}
    },
    {
      "cell_type": "code",
      "source": "",
      "metadata": {},
      "execution_count": null,
      "outputs": []
    }
  ]
}