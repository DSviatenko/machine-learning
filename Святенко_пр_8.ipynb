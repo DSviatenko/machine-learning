{
  "nbformat": 4,
  "nbformat_minor": 0,
  "metadata": {
    "colab": {
      "provenance": []
    },
    "kernelspec": {
      "name": "python3",
      "display_name": "Python 3"
    },
    "language_info": {
      "name": "python"
    }
  },
  "cells": [
    {
      "cell_type": "code",
      "execution_count": 1,
      "metadata": {
        "colab": {
          "base_uri": "https://localhost:8080/"
        },
        "id": "yqkGdcexDbE5",
        "outputId": "c29be15f-a185-4feb-a131-b976d036c877"
      },
      "outputs": [
        {
          "output_type": "stream",
          "name": "stdout",
          "text": [
            "Collecting scikit-surprise\n",
            "  Downloading scikit-surprise-1.1.3.tar.gz (771 kB)\n",
            "\u001b[2K     \u001b[90m━━━━━━━━━━━━━━━━━━━━━━━━━━━━━━━━━━━━━━━━\u001b[0m \u001b[32m772.0/772.0 kB\u001b[0m \u001b[31m6.3 MB/s\u001b[0m eta \u001b[36m0:00:00\u001b[0m\n",
            "\u001b[?25h  Preparing metadata (setup.py) ... \u001b[?25l\u001b[?25hdone\n",
            "Requirement already satisfied: joblib>=1.0.0 in /usr/local/lib/python3.10/dist-packages (from scikit-surprise) (1.3.2)\n",
            "Requirement already satisfied: numpy>=1.17.3 in /usr/local/lib/python3.10/dist-packages (from scikit-surprise) (1.23.5)\n",
            "Requirement already satisfied: scipy>=1.3.2 in /usr/local/lib/python3.10/dist-packages (from scikit-surprise) (1.11.3)\n",
            "Building wheels for collected packages: scikit-surprise\n",
            "  Building wheel for scikit-surprise (setup.py) ... \u001b[?25l\u001b[?25hdone\n",
            "  Created wheel for scikit-surprise: filename=scikit_surprise-1.1.3-cp310-cp310-linux_x86_64.whl size=3163340 sha256=d9bf2f091fe78975672de968cd28905c61026f7c6741bd7b6847f7263b32785b\n",
            "  Stored in directory: /root/.cache/pip/wheels/a5/ca/a8/4e28def53797fdc4363ca4af740db15a9c2f1595ebc51fb445\n",
            "Successfully built scikit-surprise\n",
            "Installing collected packages: scikit-surprise\n",
            "Successfully installed scikit-surprise-1.1.3\n"
          ]
        }
      ],
      "source": [
        "pip install scikit-surprise"
      ]
    },
    {
      "cell_type": "code",
      "source": [
        "from surprise import Dataset, Reader, SVD, SVDpp, NMF, KNNBasic, KNNBaseline\n",
        "from surprise.model_selection import cross_validate\n",
        "import matplotlib.pyplot as plt"
      ],
      "metadata": {
        "id": "5SFkco7oDf4F"
      },
      "execution_count": 2,
      "outputs": []
    },
    {
      "cell_type": "code",
      "source": [
        "#Load Movielens-100k dataset\n",
        "data = Dataset.load_builtin('ml-100k')"
      ],
      "metadata": {
        "colab": {
          "base_uri": "https://localhost:8080/"
        },
        "id": "GEKljL3wELQg",
        "outputId": "dcfc47f9-bcbb-4ba3-af00-faf1fba1d357"
      },
      "execution_count": 3,
      "outputs": [
        {
          "output_type": "stream",
          "name": "stdout",
          "text": [
            "Dataset ml-100k could not be found. Do you want to download it? [Y/n] Y\n",
            "Trying to download dataset from https://files.grouplens.org/datasets/movielens/ml-100k.zip...\n",
            "Done! Dataset ml-100k has been saved to /root/.surprise_data/ml-100k\n"
          ]
        }
      ]
    },
    {
      "cell_type": "code",
      "source": [
        "#Variables for algorithms\n",
        "algo_svd = SVD()\n",
        "algo_svdpp = SVDpp()\n",
        "algo_nmf = NMF()\n",
        "algo_knnbasic = KNNBasic()\n",
        "algo_knnbaseline = KNNBaseline()"
      ],
      "metadata": {
        "id": "NY3joVmcEUZT"
      },
      "execution_count": 6,
      "outputs": []
    },
    {
      "cell_type": "code",
      "source": [
        "#Cross-validation\n",
        "cv_svd = cross_validate(algo_svd, data, measures=[\"rmse\"], cv=4, verbose=True)\n",
        "cv_svdpp = cross_validate(algo_svdpp, data, measures=[\"rmse\"], cv=4, verbose=True)\n",
        "cv_nmf = cross_validate(algo_nmf, data, measures=[\"rmse\"], cv=4, verbose=True)\n",
        "cv_knnbasic = cross_validate(algo_knnbasic, data, measures=[\"rmse\"], cv=4, verbose=True)\n",
        "cv_knnbaseline = cross_validate(algo_knnbaseline, data, measures=[\"rmse\"], cv=4, verbose=True)"
      ],
      "metadata": {
        "colab": {
          "base_uri": "https://localhost:8080/"
        },
        "id": "ny6Rq49zGVcM",
        "outputId": "527c8980-eb2f-4d27-87e8-6b34f5fef04f"
      },
      "execution_count": 7,
      "outputs": [
        {
          "output_type": "stream",
          "name": "stdout",
          "text": [
            "Evaluating RMSE of algorithm SVD on 4 split(s).\n",
            "\n",
            "                  Fold 1  Fold 2  Fold 3  Fold 4  Mean    Std     \n",
            "RMSE (testset)    0.9390  0.9376  0.9380  0.9448  0.9398  0.0029  \n",
            "Fit time          1.99    1.33    1.38    1.36    1.51    0.27    \n",
            "Test time         0.18    0.25    0.28    0.17    0.22    0.05    \n",
            "Evaluating RMSE of algorithm SVDpp on 4 split(s).\n",
            "\n",
            "                  Fold 1  Fold 2  Fold 3  Fold 4  Mean    Std     \n",
            "RMSE (testset)    0.9220  0.9212  0.9316  0.9141  0.9222  0.0062  \n",
            "Fit time          23.83   23.95   24.49   24.09   24.09   0.25    \n",
            "Test time         6.30    5.45    5.28    6.06    5.77    0.42    \n",
            "Evaluating RMSE of algorithm NMF on 4 split(s).\n",
            "\n",
            "                  Fold 1  Fold 2  Fold 3  Fold 4  Mean    Std     \n",
            "RMSE (testset)    0.9686  0.9676  0.9665  0.9614  0.9660  0.0028  \n",
            "Fit time          2.10    2.13    2.13    2.79    2.29    0.29    \n",
            "Test time         0.25    0.24    0.15    0.26    0.22    0.05    \n",
            "Computing the msd similarity matrix...\n",
            "Done computing similarity matrix.\n",
            "Computing the msd similarity matrix...\n",
            "Done computing similarity matrix.\n",
            "Computing the msd similarity matrix...\n",
            "Done computing similarity matrix.\n",
            "Computing the msd similarity matrix...\n",
            "Done computing similarity matrix.\n",
            "Evaluating RMSE of algorithm KNNBasic on 4 split(s).\n",
            "\n",
            "                  Fold 1  Fold 2  Fold 3  Fold 4  Mean    Std     \n",
            "RMSE (testset)    0.9786  0.9827  0.9866  0.9806  0.9821  0.0030  \n",
            "Fit time          0.35    0.40    0.52    0.36    0.41    0.07    \n",
            "Test time         3.81    3.87    4.69    3.94    4.08    0.35    \n",
            "Estimating biases using als...\n",
            "Computing the msd similarity matrix...\n",
            "Done computing similarity matrix.\n",
            "Estimating biases using als...\n",
            "Computing the msd similarity matrix...\n",
            "Done computing similarity matrix.\n",
            "Estimating biases using als...\n",
            "Computing the msd similarity matrix...\n",
            "Done computing similarity matrix.\n",
            "Estimating biases using als...\n",
            "Computing the msd similarity matrix...\n",
            "Done computing similarity matrix.\n",
            "Evaluating RMSE of algorithm KNNBaseline on 4 split(s).\n",
            "\n",
            "                  Fold 1  Fold 2  Fold 3  Fold 4  Mean    Std     \n",
            "RMSE (testset)    0.9332  0.9374  0.9277  0.9308  0.9322  0.0035  \n",
            "Fit time          0.70    0.75    0.73    0.74    0.73    0.02    \n",
            "Test time         5.70    4.47    5.47    4.63    5.07    0.53    \n"
          ]
        }
      ]
    },
    {
      "cell_type": "code",
      "source": [
        "#Find mean of RMSE\n",
        "rmse_svd = cv_svd['test_rmse'].mean()\n",
        "rmse_svdpp = cv_svdpp['test_rmse'].mean()\n",
        "rmse_nmf = cv_nmf['test_rmse'].mean()\n",
        "rmse_knnbasic = cv_knnbasic['test_rmse'].mean()\n",
        "rmse_knnbaseline = cv_knnbaseline['test_rmse'].mean()\n",
        "\n",
        "print(f\"SVD = {rmse_svd}\")\n",
        "print(f\"SVDpp = {rmse_svdpp}\")\n",
        "print(f\"NMF = {rmse_nmf}\")\n",
        "print(f\"KNNBasic = {rmse_knnbasic}\")\n",
        "print(f\"KNNBaseline = {rmse_knnbaseline}\")"
      ],
      "metadata": {
        "colab": {
          "base_uri": "https://localhost:8080/"
        },
        "id": "cSRxTSk3GWHi",
        "outputId": "3fe01fcb-444f-4cf7-a205-86dae2ea747c"
      },
      "execution_count": 9,
      "outputs": [
        {
          "output_type": "stream",
          "name": "stdout",
          "text": [
            "SVD = 0.9398386430069274\n",
            "SVDpp = 0.9222285961945886\n",
            "NMF = 0.9660465503708713\n",
            "KNNBasic = 0.9821415207263677\n",
            "KNNBaseline = 0.9322494567491699\n"
          ]
        }
      ]
    },
    {
      "cell_type": "markdown",
      "source": [
        "Висновок: серед усіх п’яти середніх значень результатів найнижчий RMSE має SVDpp, що означає, що цей алгоритм є найбільш оптимальним для набору даних Movielens."
      ],
      "metadata": {
        "id": "03ypEQWOIzuT"
      }
    },
    {
      "cell_type": "code",
      "source": [
        "rmse_variables = [rmse_svd, rmse_svdpp, rmse_nmf, rmse_knnbasic, rmse_knnbaseline]\n",
        "algos = [\"SVD\", \"SVDpp\", \"NMF\", \"KNNBasic\", \"KNNBaseline\"]\n",
        "plt.style.use('https://github.com/dhaitz/matplotlib-stylesheets/raw/master/pitayasmoothie-dark.mplstyle')\n",
        "plt.bar(algos, rmse_variables, color=['lightgreen', 'lightblue', 'red', 'purple', 'orange'])\n",
        "plt.title(\"Comparison table of RMSE values\")\n",
        "plt.xlabel(\"Algorithms\")\n",
        "plt.ylabel(\"RMSE Values\")\n",
        "plt.ylim(0.9, 1.0)\n",
        "plt.show()"
      ],
      "metadata": {
        "colab": {
          "base_uri": "https://localhost:8080/",
          "height": 465
        },
        "id": "uwNegklAIr4R",
        "outputId": "1a28cd58-a443-4fc6-fe4b-bb71b8dbbe7c"
      },
      "execution_count": 10,
      "outputs": [
        {
          "output_type": "display_data",
          "data": {
            "text/plain": [
              "<Figure size 640x480 with 1 Axes>"
            ],
            "image/png": "[encoded data removed]"
          },
          "metadata": {}
        }
      ]
    },
    {
      "cell_type": "markdown",
      "source": [
        "Висновок: на практичній роботі я поглибив знання з мови програмування Python, використовуючи бібліотеку \"surprise\". Протягом роботи я виконував різні завдання, зокрема завантажував датасети та алгоритми, знаходив середньоквадратичну похибку встановлених алгоритмів."
      ],
      "metadata": {
        "id": "RpH1fo2pKJ44"
      }
    },
    {
      "cell_type": "code",
      "source": [],
      "metadata": {
        "id": "4DQWm2SZKgsj"
      },
      "execution_count": null,
      "outputs": []
    }
  ]
}