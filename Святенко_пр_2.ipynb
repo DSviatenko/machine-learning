{
 "cells": [
  {
   "cell_type": "markdown",
   "id": "431f2781",
   "metadata": {},
   "source": [
    "Варіант №21\n",
    "\n",
    "Посилання на Github: https://github.com/DSviatenko/machine-learning"
   ]
  },
  {
   "cell_type": "code",
   "execution_count": 86,
   "id": "d6ad475a",
   "metadata": {},
   "outputs": [],
   "source": [
    "import pandas as pd\n",
    "import numpy as np\n",
    "import matplotlib.pyplot as plt\n",
    "\n",
    "url = \"https://uk.wikipedia.org/wiki/%D0%A1%D0%B5%D1%80%D0%B5%D0%B4%D0%BD%D1%8F_%D0%B7%D0%B0%D1%80%D0%BE%D0%B1%D1%96%D1%82%D0%BD%D0%B0_%D0%BF%D0%BB%D0%B0%D1%82%D0%B0_%D0%B2_%D0%A3%D0%BA%D1%80%D0%B0%D1%97%D0%BD%D1%96\"\n",
    "data = pd.read_html(url, header=0)[2]"
   ]
  },
  {
   "cell_type": "markdown",
   "id": "e73f550e",
   "metadata": {},
   "source": [
    "1. Виведіть перші 5 рядків таблиці. "
   ]
  },
  {
   "cell_type": "code",
   "execution_count": 87,
   "id": "3b7070b0",
   "metadata": {},
   "outputs": [
    {
     "name": "stdout",
     "output_type": "stream",
     "text": [
      "    Рік В національній валюті В доларах США  \\\n",
      "0  1992              5832,88▲        28,04▼   \n",
      "1  1993               163533▲        36,03▲   \n",
      "2  1994              1426343▲        44,99▲   \n",
      "3  1995              7304000▲        49,53▲   \n",
      "4  1996               125,23▼        68,45▲   \n",
      "\n",
      "  Кількість кг хліба[20] на середню зарплату  \\\n",
      "0                                   1015,67▲   \n",
      "1                                    430,42▼   \n",
      "2                                    372,76▼   \n",
      "3                                    201,76▼   \n",
      "4                                    198,62▼   \n",
      "\n",
      "  Кількість БігМаків на середню зарплату  \n",
      "0                                      —  \n",
      "1                                      —  \n",
      "2                                      —  \n",
      "3                                      —  \n",
      "4                                      —  \n"
     ]
    }
   ],
   "source": [
    "df_1 = data.head(5)\n",
    "print(df_1)"
   ]
  },
  {
   "cell_type": "markdown",
   "id": "1e77442e",
   "metadata": {},
   "source": [
    "2. Визначте кількість рядків і стовпчиків за допомогою атрибуту shape"
   ]
  },
  {
   "cell_type": "code",
   "execution_count": 88,
   "id": "da52e114",
   "metadata": {},
   "outputs": [
    {
     "name": "stdout",
     "output_type": "stream",
     "text": [
      "Rows = 32, Columns = 5\n"
     ]
    }
   ],
   "source": [
    "num_rows, num_columns = data.shape\n",
    "print(f\"Rows = {num_rows}, Columns = {num_columns}\")"
   ]
  },
  {
   "cell_type": "markdown",
   "id": "70d811f6",
   "metadata": {},
   "source": [
    "3. Визначте загальну кількість років та кількість місяців у даних."
   ]
  },
  {
   "cell_type": "code",
   "execution_count": 89,
   "id": "e183ae71",
   "metadata": {},
   "outputs": [
    {
     "name": "stdout",
     "output_type": "stream",
     "text": [
      "Count of years = 31\n",
      "Count of months = 372\n"
     ]
    }
   ],
   "source": [
    "num_years = len(data['Рік']) - 1\n",
    "num_months = num_years*12  \n",
    "print(\"Count of years =\", num_years)\n",
    "print(\"Count of months =\", num_months)"
   ]
  },
  {
   "cell_type": "markdown",
   "id": "3c6f0564",
   "metadata": {},
   "source": [
    "4. Замінити пропущені значення  «-» в таблиці на NaN "
   ]
  },
  {
   "cell_type": "code",
   "execution_count": 90,
   "id": "02e60ee2",
   "metadata": {},
   "outputs": [
    {
     "data": {
      "text/html": [
       "<div>\n",
       "<style scoped>\n",
       "    .dataframe tbody tr th:only-of-type {\n",
       "        vertical-align: middle;\n",
       "    }\n",
       "\n",
       "    .dataframe tbody tr th {\n",
       "        vertical-align: top;\n",
       "    }\n",
       "\n",
       "    .dataframe thead th {\n",
       "        text-align: right;\n",
       "    }\n",
       "</style>\n",
       "<table border=\"1\" class=\"dataframe\">\n",
       "  <thead>\n",
       "    <tr style=\"text-align: right;\">\n",
       "      <th></th>\n",
       "      <th>Рік</th>\n",
       "      <th>В національній валюті</th>\n",
       "      <th>В доларах США</th>\n",
       "      <th>Кількість кг хліба[20] на середню зарплату</th>\n",
       "      <th>Кількість БігМаків на середню зарплату</th>\n",
       "    </tr>\n",
       "  </thead>\n",
       "  <tbody>\n",
       "    <tr>\n",
       "      <th>0</th>\n",
       "      <td>1992</td>\n",
       "      <td>5832,88▲</td>\n",
       "      <td>28,04▼</td>\n",
       "      <td>1015,67▲</td>\n",
       "      <td>NaN</td>\n",
       "    </tr>\n",
       "    <tr>\n",
       "      <th>1</th>\n",
       "      <td>1993</td>\n",
       "      <td>163533▲</td>\n",
       "      <td>36,03▲</td>\n",
       "      <td>430,42▼</td>\n",
       "      <td>NaN</td>\n",
       "    </tr>\n",
       "    <tr>\n",
       "      <th>2</th>\n",
       "      <td>1994</td>\n",
       "      <td>1426343▲</td>\n",
       "      <td>44,99▲</td>\n",
       "      <td>372,76▼</td>\n",
       "      <td>NaN</td>\n",
       "    </tr>\n",
       "    <tr>\n",
       "      <th>3</th>\n",
       "      <td>1995</td>\n",
       "      <td>7304000▲</td>\n",
       "      <td>49,53▲</td>\n",
       "      <td>201,76▼</td>\n",
       "      <td>NaN</td>\n",
       "    </tr>\n",
       "    <tr>\n",
       "      <th>4</th>\n",
       "      <td>1996</td>\n",
       "      <td>125,23▼</td>\n",
       "      <td>68,45▲</td>\n",
       "      <td>198,62▼</td>\n",
       "      <td>NaN</td>\n",
       "    </tr>\n",
       "    <tr>\n",
       "      <th>5</th>\n",
       "      <td>1997</td>\n",
       "      <td>143,09▲</td>\n",
       "      <td>76,86▲</td>\n",
       "      <td>211,13▲</td>\n",
       "      <td>20[21]</td>\n",
       "    </tr>\n",
       "    <tr>\n",
       "      <th>6</th>\n",
       "      <td>1998</td>\n",
       "      <td>152,83▲</td>\n",
       "      <td>62,39▼</td>\n",
       "      <td>177,69▼</td>\n",
       "      <td>н.д.</td>\n",
       "    </tr>\n",
       "    <tr>\n",
       "      <th>7</th>\n",
       "      <td>1999</td>\n",
       "      <td>177,39▲</td>\n",
       "      <td>42,95▼</td>\n",
       "      <td>180,68▲</td>\n",
       "      <td>24▲[22]</td>\n",
       "    </tr>\n",
       "    <tr>\n",
       "      <th>8</th>\n",
       "      <td>2000</td>\n",
       "      <td>231,04▲</td>\n",
       "      <td>42,47▼</td>\n",
       "      <td>117,51▼</td>\n",
       "      <td>н.д.</td>\n",
       "    </tr>\n",
       "    <tr>\n",
       "      <th>9</th>\n",
       "      <td>2001</td>\n",
       "      <td>311,62▲</td>\n",
       "      <td>58,01▲</td>\n",
       "      <td>153,57▲</td>\n",
       "      <td>50▲[23]</td>\n",
       "    </tr>\n",
       "    <tr>\n",
       "      <th>10</th>\n",
       "      <td>2002</td>\n",
       "      <td>375,98▲</td>\n",
       "      <td>70,59▲</td>\n",
       "      <td>213,84▲</td>\n",
       "      <td>н.д.</td>\n",
       "    </tr>\n",
       "    <tr>\n",
       "      <th>11</th>\n",
       "      <td>2003</td>\n",
       "      <td>462,58▲</td>\n",
       "      <td>86,74▲</td>\n",
       "      <td>276,27▲</td>\n",
       "      <td>н.д.</td>\n",
       "    </tr>\n",
       "    <tr>\n",
       "      <th>12</th>\n",
       "      <td>2004</td>\n",
       "      <td>590,53▲</td>\n",
       "      <td>111,02▲</td>\n",
       "      <td>276,06▼</td>\n",
       "      <td>81▲</td>\n",
       "    </tr>\n",
       "    <tr>\n",
       "      <th>13</th>\n",
       "      <td>2005</td>\n",
       "      <td>806,14▲</td>\n",
       "      <td>157,30▲</td>\n",
       "      <td>332,05▲</td>\n",
       "      <td>111▲</td>\n",
       "    </tr>\n",
       "    <tr>\n",
       "      <th>14</th>\n",
       "      <td>2006</td>\n",
       "      <td>1042,88▲</td>\n",
       "      <td>206,51▲</td>\n",
       "      <td>441,28▲</td>\n",
       "      <td>123▲</td>\n",
       "    </tr>\n",
       "    <tr>\n",
       "      <th>15</th>\n",
       "      <td>2007</td>\n",
       "      <td>1352,75▲</td>\n",
       "      <td>267,87▲</td>\n",
       "      <td>498,66▲</td>\n",
       "      <td>146▲</td>\n",
       "    </tr>\n",
       "    <tr>\n",
       "      <th>16</th>\n",
       "      <td>2008</td>\n",
       "      <td>1808,92▲</td>\n",
       "      <td>343,43▲</td>\n",
       "      <td>585,00▲</td>\n",
       "      <td>164▲</td>\n",
       "    </tr>\n",
       "    <tr>\n",
       "      <th>17</th>\n",
       "      <td>2009</td>\n",
       "      <td>1909,25▲</td>\n",
       "      <td>245,05▼</td>\n",
       "      <td>497,02▼</td>\n",
       "      <td>136▼</td>\n",
       "    </tr>\n",
       "    <tr>\n",
       "      <th>18</th>\n",
       "      <td>2010</td>\n",
       "      <td>2246,75▲</td>\n",
       "      <td>283,12▲</td>\n",
       "      <td>527,82▲</td>\n",
       "      <td>155▲</td>\n",
       "    </tr>\n",
       "    <tr>\n",
       "      <th>19</th>\n",
       "      <td>2011</td>\n",
       "      <td>2639,17▲</td>\n",
       "      <td>331,24▲</td>\n",
       "      <td>564,37▲</td>\n",
       "      <td>160▲</td>\n",
       "    </tr>\n",
       "    <tr>\n",
       "      <th>20</th>\n",
       "      <td>2012</td>\n",
       "      <td>3031,92▲</td>\n",
       "      <td>379,42▲</td>\n",
       "      <td>585,38▲</td>\n",
       "      <td>202▲</td>\n",
       "    </tr>\n",
       "    <tr>\n",
       "      <th>21</th>\n",
       "      <td>2013</td>\n",
       "      <td>3273,82▲</td>\n",
       "      <td>409,59▲</td>\n",
       "      <td>625,00▲</td>\n",
       "      <td>172▼</td>\n",
       "    </tr>\n",
       "    <tr>\n",
       "      <th>22</th>\n",
       "      <td>2014</td>\n",
       "      <td>3474,75▲</td>\n",
       "      <td>292,32▼</td>\n",
       "      <td>642,39▲</td>\n",
       "      <td>182▲</td>\n",
       "    </tr>\n",
       "    <tr>\n",
       "      <th>23</th>\n",
       "      <td>2015</td>\n",
       "      <td>4207,33▲</td>\n",
       "      <td>162,60▼</td>\n",
       "      <td>517,22▼</td>\n",
       "      <td>124▼</td>\n",
       "    </tr>\n",
       "    <tr>\n",
       "      <th>24</th>\n",
       "      <td>2016</td>\n",
       "      <td>5187,33▲</td>\n",
       "      <td>203,02▲</td>\n",
       "      <td>441,05▼</td>\n",
       "      <td>133▲</td>\n",
       "    </tr>\n",
       "    <tr>\n",
       "      <th>25</th>\n",
       "      <td>2017</td>\n",
       "      <td>7105,42▲</td>\n",
       "      <td>267,16▲</td>\n",
       "      <td>450,35▲</td>\n",
       "      <td>161▲</td>\n",
       "    </tr>\n",
       "    <tr>\n",
       "      <th>26</th>\n",
       "      <td>2018</td>\n",
       "      <td>8867,33▲</td>\n",
       "      <td>325,99▲</td>\n",
       "      <td>497,05▲</td>\n",
       "      <td>177▲</td>\n",
       "    </tr>\n",
       "    <tr>\n",
       "      <th>27</th>\n",
       "      <td>2019</td>\n",
       "      <td>10503,75▲</td>\n",
       "      <td>406,40▲</td>\n",
       "      <td>528,09▲</td>\n",
       "      <td>184▲</td>\n",
       "    </tr>\n",
       "    <tr>\n",
       "      <th>28</th>\n",
       "      <td>2020</td>\n",
       "      <td>11596,60▲</td>\n",
       "      <td>430,21▲</td>\n",
       "      <td>549,08▲</td>\n",
       "      <td>187▲</td>\n",
       "    </tr>\n",
       "    <tr>\n",
       "      <th>29</th>\n",
       "      <td>2021</td>\n",
       "      <td>14017,80▲</td>\n",
       "      <td>514,41▲</td>\n",
       "      <td>560,03▲</td>\n",
       "      <td>216▲</td>\n",
       "    </tr>\n",
       "    <tr>\n",
       "      <th>30</th>\n",
       "      <td>2022*</td>\n",
       "      <td>13376,21▼</td>\n",
       "      <td>380,00▼</td>\n",
       "      <td>409,57▼</td>\n",
       "      <td>132▼</td>\n",
       "    </tr>\n",
       "    <tr>\n",
       "      <th>31</th>\n",
       "      <td>2023*</td>\n",
       "      <td>12954,12▼</td>\n",
       "      <td>327,70▼</td>\n",
       "      <td>367,85▼</td>\n",
       "      <td>123▼</td>\n",
       "    </tr>\n",
       "  </tbody>\n",
       "</table>\n",
       "</div>"
      ],
      "text/plain": [
       "      Рік В національній валюті В доларах США  \\\n",
       "0    1992              5832,88▲        28,04▼   \n",
       "1    1993               163533▲        36,03▲   \n",
       "2    1994              1426343▲        44,99▲   \n",
       "3    1995              7304000▲        49,53▲   \n",
       "4    1996               125,23▼        68,45▲   \n",
       "5    1997               143,09▲        76,86▲   \n",
       "6    1998               152,83▲        62,39▼   \n",
       "7    1999               177,39▲        42,95▼   \n",
       "8    2000               231,04▲        42,47▼   \n",
       "9    2001               311,62▲        58,01▲   \n",
       "10   2002               375,98▲        70,59▲   \n",
       "11   2003               462,58▲        86,74▲   \n",
       "12   2004               590,53▲       111,02▲   \n",
       "13   2005               806,14▲       157,30▲   \n",
       "14   2006              1042,88▲       206,51▲   \n",
       "15   2007              1352,75▲       267,87▲   \n",
       "16   2008              1808,92▲       343,43▲   \n",
       "17   2009              1909,25▲       245,05▼   \n",
       "18   2010              2246,75▲       283,12▲   \n",
       "19   2011              2639,17▲       331,24▲   \n",
       "20   2012              3031,92▲       379,42▲   \n",
       "21   2013              3273,82▲       409,59▲   \n",
       "22   2014              3474,75▲       292,32▼   \n",
       "23   2015              4207,33▲       162,60▼   \n",
       "24   2016              5187,33▲       203,02▲   \n",
       "25   2017              7105,42▲       267,16▲   \n",
       "26   2018              8867,33▲       325,99▲   \n",
       "27   2019             10503,75▲       406,40▲   \n",
       "28   2020             11596,60▲       430,21▲   \n",
       "29   2021             14017,80▲       514,41▲   \n",
       "30  2022*             13376,21▼       380,00▼   \n",
       "31  2023*             12954,12▼       327,70▼   \n",
       "\n",
       "   Кількість кг хліба[20] на середню зарплату  \\\n",
       "0                                    1015,67▲   \n",
       "1                                     430,42▼   \n",
       "2                                     372,76▼   \n",
       "3                                     201,76▼   \n",
       "4                                     198,62▼   \n",
       "5                                     211,13▲   \n",
       "6                                     177,69▼   \n",
       "7                                     180,68▲   \n",
       "8                                     117,51▼   \n",
       "9                                     153,57▲   \n",
       "10                                    213,84▲   \n",
       "11                                    276,27▲   \n",
       "12                                    276,06▼   \n",
       "13                                    332,05▲   \n",
       "14                                    441,28▲   \n",
       "15                                    498,66▲   \n",
       "16                                    585,00▲   \n",
       "17                                    497,02▼   \n",
       "18                                    527,82▲   \n",
       "19                                    564,37▲   \n",
       "20                                    585,38▲   \n",
       "21                                    625,00▲   \n",
       "22                                    642,39▲   \n",
       "23                                    517,22▼   \n",
       "24                                    441,05▼   \n",
       "25                                    450,35▲   \n",
       "26                                    497,05▲   \n",
       "27                                    528,09▲   \n",
       "28                                    549,08▲   \n",
       "29                                    560,03▲   \n",
       "30                                    409,57▼   \n",
       "31                                    367,85▼   \n",
       "\n",
       "   Кількість БігМаків на середню зарплату  \n",
       "0                                     NaN  \n",
       "1                                     NaN  \n",
       "2                                     NaN  \n",
       "3                                     NaN  \n",
       "4                                     NaN  \n",
       "5                                  20[21]  \n",
       "6                                    н.д.  \n",
       "7                                 24▲[22]  \n",
       "8                                    н.д.  \n",
       "9                                 50▲[23]  \n",
       "10                                   н.д.  \n",
       "11                                   н.д.  \n",
       "12                                    81▲  \n",
       "13                                   111▲  \n",
       "14                                   123▲  \n",
       "15                                   146▲  \n",
       "16                                   164▲  \n",
       "17                                   136▼  \n",
       "18                                   155▲  \n",
       "19                                   160▲  \n",
       "20                                   202▲  \n",
       "21                                   172▼  \n",
       "22                                   182▲  \n",
       "23                                   124▼  \n",
       "24                                   133▲  \n",
       "25                                   161▲  \n",
       "26                                   177▲  \n",
       "27                                   184▲  \n",
       "28                                   187▲  \n",
       "29                                   216▲  \n",
       "30                                   132▼  \n",
       "31                                   123▼  "
      ]
     },
     "execution_count": 90,
     "metadata": {},
     "output_type": "execute_result"
    }
   ],
   "source": [
    "data = data.replace(\"—\", np.nan)\n",
    "data"
   ]
  },
  {
   "cell_type": "markdown",
   "id": "c2ecc319",
   "metadata": {},
   "source": [
    "5. Визначити тип стовпців за допомогою dtypes. "
   ]
  },
  {
   "cell_type": "code",
   "execution_count": 91,
   "id": "8e1bb8a5",
   "metadata": {},
   "outputs": [
    {
     "name": "stdout",
     "output_type": "stream",
     "text": [
      "Types of columns:\n",
      "Рік                                           object\n",
      "В національній валюті                         object\n",
      "В доларах США                                 object\n",
      "Кількість кг хліба[20] на середню зарплату    object\n",
      "Кількість БігМаків на середню зарплату        object\n",
      "dtype: object\n"
     ]
    }
   ],
   "source": [
    "column_types = data.dtypes\n",
    "print(\"Types of columns:\")\n",
    "print(column_types)"
   ]
  },
  {
   "cell_type": "markdown",
   "id": "881e7d89",
   "metadata": {},
   "source": [
    "6. Видаліть передостанній і останній стовпчики ( Кількість кг хліба[20] на середню зарплату,  Кільксть БігМаків на середню зарплату). Далі працюйте з оновленою таблицею.  "
   ]
  },
  {
   "cell_type": "code",
   "execution_count": 92,
   "id": "4d0f8a9d",
   "metadata": {},
   "outputs": [
    {
     "name": "stdout",
     "output_type": "stream",
     "text": [
      "      Рік В національній валюті В доларах США\n",
      "0    1992              5832,88▲        28,04▼\n",
      "1    1993               163533▲        36,03▲\n",
      "2    1994              1426343▲        44,99▲\n",
      "3    1995              7304000▲        49,53▲\n",
      "4    1996               125,23▼        68,45▲\n",
      "5    1997               143,09▲        76,86▲\n",
      "6    1998               152,83▲        62,39▼\n",
      "7    1999               177,39▲        42,95▼\n",
      "8    2000               231,04▲        42,47▼\n",
      "9    2001               311,62▲        58,01▲\n",
      "10   2002               375,98▲        70,59▲\n",
      "11   2003               462,58▲        86,74▲\n",
      "12   2004               590,53▲       111,02▲\n",
      "13   2005               806,14▲       157,30▲\n",
      "14   2006              1042,88▲       206,51▲\n",
      "15   2007              1352,75▲       267,87▲\n",
      "16   2008              1808,92▲       343,43▲\n",
      "17   2009              1909,25▲       245,05▼\n",
      "18   2010              2246,75▲       283,12▲\n",
      "19   2011              2639,17▲       331,24▲\n",
      "20   2012              3031,92▲       379,42▲\n",
      "21   2013              3273,82▲       409,59▲\n",
      "22   2014              3474,75▲       292,32▼\n",
      "23   2015              4207,33▲       162,60▼\n",
      "24   2016              5187,33▲       203,02▲\n",
      "25   2017              7105,42▲       267,16▲\n",
      "26   2018              8867,33▲       325,99▲\n",
      "27   2019             10503,75▲       406,40▲\n",
      "28   2020             11596,60▲       430,21▲\n",
      "29   2021             14017,80▲       514,41▲\n",
      "30  2022*             13376,21▼       380,00▼\n",
      "31  2023*             12954,12▼       327,70▼\n"
     ]
    }
   ],
   "source": [
    "data = data.drop(columns=[\"Кількість кг хліба[20] на середню зарплату\", \"Кількість БігМаків на середню зарплату\"])\n",
    "print(data)"
   ]
  },
  {
   "cell_type": "markdown",
   "id": "f7dcef55",
   "metadata": {},
   "source": [
    "7. Замінити тип нечислових даних на числові. "
   ]
  },
  {
   "cell_type": "code",
   "execution_count": 93,
   "id": "20c40e5c",
   "metadata": {},
   "outputs": [
    {
     "name": "stdout",
     "output_type": "stream",
     "text": [
      "Рік                       object\n",
      "В національній валюті    float64\n",
      "В доларах США            float64\n",
      "dtype: object\n",
      "      Рік  В національній валюті  В доларах США\n",
      "0    1992                5832.88          28.04\n",
      "1    1993              163533.00          36.03\n",
      "2    1994             1426343.00          44.99\n",
      "3    1995             7304000.00          49.53\n",
      "4    1996                 125.23          68.45\n",
      "5    1997                 143.09          76.86\n",
      "6    1998                 152.83          62.39\n",
      "7    1999                 177.39          42.95\n",
      "8    2000                 231.04          42.47\n",
      "9    2001                 311.62          58.01\n",
      "10   2002                 375.98          70.59\n",
      "11   2003                 462.58          86.74\n",
      "12   2004                 590.53         111.02\n",
      "13   2005                 806.14         157.30\n",
      "14   2006                1042.88         206.51\n",
      "15   2007                1352.75         267.87\n",
      "16   2008                1808.92         343.43\n",
      "17   2009                1909.25         245.05\n",
      "18   2010                2246.75         283.12\n",
      "19   2011                2639.17         331.24\n",
      "20   2012                3031.92         379.42\n",
      "21   2013                3273.82         409.59\n",
      "22   2014                3474.75         292.32\n",
      "23   2015                4207.33         162.60\n",
      "24   2016                5187.33         203.02\n",
      "25   2017                7105.42         267.16\n",
      "26   2018                8867.33         325.99\n",
      "27   2019               10503.75         406.40\n",
      "28   2020               11596.60         430.21\n",
      "29   2021               14017.80         514.41\n",
      "30  2022*               13376.21         380.00\n",
      "31  2023*               12954.12         327.70\n"
     ]
    }
   ],
   "source": [
    "for col in data.columns[1:]:\n",
    "    data[col] = data[col].str.replace(',', '.').str.extract('(\\d+.\\d+)').astype(float)\n",
    "print(data.dtypes)\n",
    "print(data)"
   ]
  },
  {
   "cell_type": "markdown",
   "id": "39ba179a",
   "metadata": {},
   "source": [
    "8. Порахуйте частку пропусків в кожній колонці (за допомогою методів isnull , sum, len) "
   ]
  },
  {
   "cell_type": "code",
   "execution_count": 94,
   "id": "61eb7e6c",
   "metadata": {},
   "outputs": [
    {
     "data": {
      "text/plain": [
       "В національній валюті    0.0\n",
       "В доларах США            0.0\n",
       "dtype: float64"
      ]
     },
     "execution_count": 94,
     "metadata": {},
     "output_type": "execute_result"
    }
   ],
   "source": [
    "data.iloc[:, 1:].isnull().sum()/len(data)"
   ]
  },
  {
   "cell_type": "markdown",
   "id": "cedc4096",
   "metadata": {},
   "source": [
    "9. Замініть всі пропущені значення на середні значення по (стовпцю). "
   ]
  },
  {
   "cell_type": "code",
   "execution_count": 95,
   "id": "dd47bcdc",
   "metadata": {},
   "outputs": [
    {
     "name": "stdout",
     "output_type": "stream",
     "text": [
      "      Рік  В національній валюті  В доларах США\n",
      "0    1992                5832.88          28.04\n",
      "1    1993              163533.00          36.03\n",
      "2    1994             1426343.00          44.99\n",
      "3    1995             7304000.00          49.53\n",
      "4    1996                 125.23          68.45\n",
      "5    1997                 143.09          76.86\n",
      "6    1998                 152.83          62.39\n",
      "7    1999                 177.39          42.95\n",
      "8    2000                 231.04          42.47\n",
      "9    2001                 311.62          58.01\n",
      "10   2002                 375.98          70.59\n",
      "11   2003                 462.58          86.74\n",
      "12   2004                 590.53         111.02\n",
      "13   2005                 806.14         157.30\n",
      "14   2006                1042.88         206.51\n",
      "15   2007                1352.75         267.87\n",
      "16   2008                1808.92         343.43\n",
      "17   2009                1909.25         245.05\n",
      "18   2010                2246.75         283.12\n",
      "19   2011                2639.17         331.24\n",
      "20   2012                3031.92         379.42\n",
      "21   2013                3273.82         409.59\n",
      "22   2014                3474.75         292.32\n",
      "23   2015                4207.33         162.60\n",
      "24   2016                5187.33         203.02\n",
      "25   2017                7105.42         267.16\n",
      "26   2018                8867.33         325.99\n",
      "27   2019               10503.75         406.40\n",
      "28   2020               11596.60         430.21\n",
      "29   2021               14017.80         514.41\n",
      "30  2022*               13376.21         380.00\n",
      "31  2023*               12954.12         327.70\n"
     ]
    },
    {
     "name": "stderr",
     "output_type": "stream",
     "text": [
      "C:\\Users\\dimas\\AppData\\Local\\Temp\\ipykernel_4060\\2083851234.py:3: FutureWarning: Dropping of nuisance columns in DataFrame reductions (with 'numeric_only=None') is deprecated; in a future version this will raise TypeError.  Select only valid columns before calling the reduction.\n",
      "  x = data.mean(axis=1)\n"
     ]
    }
   ],
   "source": [
    "from numpy.lib.function_base import average\n",
    "\n",
    "x = data.mean(axis=1)\n",
    "for i, col in enumerate(data):\n",
    "    data.iloc[:, i] = data.iloc[:, i].fillna(x)\n",
    "print(data)"
   ]
  },
  {
   "cell_type": "markdown",
   "id": "aab1cf8d",
   "metadata": {},
   "source": [
    "10. Знайдіть рік з найвищою зарплатою в Україні в грн і вкажіть цю зарплату. "
   ]
  },
  {
   "cell_type": "code",
   "execution_count": 96,
   "id": "eb5f3a60",
   "metadata": {},
   "outputs": [
    {
     "name": "stdout",
     "output_type": "stream",
     "text": [
      "The biggest salary: 7304000.0\n",
      "Year: 1995\n"
     ]
    }
   ],
   "source": [
    "max_value = data['В національній валюті'].max()  \n",
    "max_row = data.loc[data['В національній валюті'].idxmax()]['Рік'] \n",
    "print(f\"The biggest salary: {max_value}\")\n",
    "print(f\"Year: {max_row}\")"
   ]
  },
  {
   "cell_type": "markdown",
   "id": "3d5ceb1a",
   "metadata": {},
   "source": [
    "11. Знайдіть рік з мінімальною  зарплатою в Україні в дол. США і вкажіть цю зарплату. "
   ]
  },
  {
   "cell_type": "code",
   "execution_count": 97,
   "id": "62520f00",
   "metadata": {},
   "outputs": [
    {
     "name": "stdout",
     "output_type": "stream",
     "text": [
      "The smallest salary: 28.04\n",
      "Year: 1992\n"
     ]
    }
   ],
   "source": [
    "min_value = data['В доларах США'].min() \n",
    "min_row = data.loc[data['В доларах США'].idxmin()]['Рік']  \n",
    "print(f\"The smallest salary: {min_value}\")\n",
    "print(f\"Year: {min_row}\")"
   ]
  },
  {
   "cell_type": "markdown",
   "id": "e0a0e250",
   "metadata": {},
   "source": [
    "12. Виведіть роки, коли зарплата в грн була вище середньої."
   ]
  },
  {
   "cell_type": "code",
   "execution_count": 98,
   "id": "0b25603a",
   "metadata": {},
   "outputs": [
    {
     "name": "stdout",
     "output_type": "stream",
     "text": [
      "\n",
      "Years with sallary bigger than average:\n",
      "['1994', '1995']\n"
     ]
    }
   ],
   "source": [
    "average_salary = data['В національній валюті'].mean()\n",
    "above_average_years = data.loc[data['В національній валюті'] > average_salary]['Рік']\n",
    "\n",
    "print(\"\\nYears with sallary bigger than average:\")\n",
    "print(above_average_years.to_list())"
   ]
  },
  {
   "cell_type": "markdown",
   "id": "9d122872",
   "metadata": {},
   "source": [
    "13. Порівняйте  зарплату  в грн за останні два доступних роки."
   ]
  },
  {
   "cell_type": "code",
   "execution_count": 99,
   "id": "9e75dcae",
   "metadata": {},
   "outputs": [
    {
     "name": "stdout",
     "output_type": "stream",
     "text": [
      "Salary in 2022 (12954.12 uah) smaller than salary in 2021 (13376.21 uah)\n"
     ]
    }
   ],
   "source": [
    "value1 = data.at[30, 'В національній валюті']\n",
    "value2 = data.at[31, 'В національній валюті']\n",
    "\n",
    "if value2 > value1:\n",
    "        result = f\"Salary in 2022 ({value2} uah) bigger than salary in 2021 ({value1} uah)\"\n",
    "elif value2 < value1:\n",
    "    result = f\"Salary in 2022 ({value2} uah) smaller than salary in 2021 ({value1} uah)\"\n",
    "else:\n",
    "    result = f\"Salary in 2022 ({value2} uah) equal salary in 2021 ({value1} uah)\"\n",
    "\n",
    "print(result)"
   ]
  },
  {
   "cell_type": "markdown",
   "id": "caee5cf3",
   "metadata": {},
   "source": [
    "14. Створіть графік, що відображає  зарплату в Україні з часом (за роками)."
   ]
  },
  {
   "cell_type": "code",
   "execution_count": 100,
   "id": "a929c392",
   "metadata": {},
   "outputs": [
    {
     "data": {
      "text/plain": [
       "Text(0, 0.5, 'млн, грн')"
      ]
     },
     "execution_count": 100,
     "metadata": {},
     "output_type": "execute_result"
    },
    {
     "data": {
      "image/png": "[encoded data removed]",
      "text/plain": [
       "<Figure size 1000x600 with 1 Axes>"
      ]
     },
     "metadata": {},
     "output_type": "display_data"
    }
   ],
   "source": [
    "x = data.plot(x='Рік', y='В національній валюті', title='Зарплата в Україні за роками', figsize=(10,6), grid=True)\n",
    "x.set_ylabel(\"млн, грн\")"
   ]
  },
  {
   "cell_type": "markdown",
   "id": "2bfa1f44",
   "metadata": {},
   "source": [
    "15. Видаліть останній рік з таблиці та виведіть оновлену таблицю. "
   ]
  },
  {
   "cell_type": "code",
   "execution_count": 101,
   "id": "45152fbb",
   "metadata": {},
   "outputs": [
    {
     "name": "stdout",
     "output_type": "stream",
     "text": [
      "      Рік  В національній валюті  В доларах США\n",
      "0    1992                5832.88          28.04\n",
      "1    1993              163533.00          36.03\n",
      "2    1994             1426343.00          44.99\n",
      "3    1995             7304000.00          49.53\n",
      "4    1996                 125.23          68.45\n",
      "5    1997                 143.09          76.86\n",
      "6    1998                 152.83          62.39\n",
      "7    1999                 177.39          42.95\n",
      "8    2000                 231.04          42.47\n",
      "9    2001                 311.62          58.01\n",
      "10   2002                 375.98          70.59\n",
      "11   2003                 462.58          86.74\n",
      "12   2004                 590.53         111.02\n",
      "13   2005                 806.14         157.30\n",
      "14   2006                1042.88         206.51\n",
      "15   2007                1352.75         267.87\n",
      "16   2008                1808.92         343.43\n",
      "17   2009                1909.25         245.05\n",
      "18   2010                2246.75         283.12\n",
      "19   2011                2639.17         331.24\n",
      "20   2012                3031.92         379.42\n",
      "21   2013                3273.82         409.59\n",
      "22   2014                3474.75         292.32\n",
      "23   2015                4207.33         162.60\n",
      "24   2016                5187.33         203.02\n",
      "25   2017                7105.42         267.16\n",
      "26   2018                8867.33         325.99\n",
      "27   2019               10503.75         406.40\n",
      "28   2020               11596.60         430.21\n",
      "29   2021               14017.80         514.41\n",
      "30  2022*               13376.21         380.00\n"
     ]
    }
   ],
   "source": [
    "data = data.iloc[:-1]\n",
    "print(data)"
   ]
  },
  {
   "cell_type": "markdown",
   "id": "e9f3b996",
   "metadata": {},
   "source": [
    "16. Побудуйте графік, що відображає середню зарплату в Україні в розрізі років без останнього року. "
   ]
  },
  {
   "cell_type": "code",
   "execution_count": 102,
   "id": "7a0deda1",
   "metadata": {},
   "outputs": [
    {
     "data": {
      "image/png": "[encoded data removed]",
      "text/plain": [
       "<Figure size 2000x600 with 1 Axes>"
      ]
     },
     "metadata": {},
     "output_type": "display_data"
    }
   ],
   "source": [
    "years = data['Рік'] \n",
    "salaries = data['В національній валюті']\n",
    "\n",
    "\n",
    "plt.figure(figsize=(20, 6))\n",
    "plt.plot(years, salaries, marker='o', color='b')\n",
    "plt.title('Середня зарплата в Україні за роки (без останнього)')\n",
    "plt.xlabel('Рік')\n",
    "plt.ylabel('Середня зарплата (грн)')\n",
    "plt.grid(True)\n",
    "\n",
    "plt.show()"
   ]
  },
  {
   "cell_type": "markdown",
   "id": "aae84692",
   "metadata": {},
   "source": [
    "17. Обчисліть зарплату за останні два роки і порівняйте її із зарплатою за останні 5 років. Вкажіть, чи є різниця, і в якому напрямку. "
   ]
  },
  {
   "cell_type": "code",
   "execution_count": 103,
   "id": "ef050379",
   "metadata": {},
   "outputs": [
    {
     "name": "stdout",
     "output_type": "stream",
     "text": [
      "last 2 years < last 5 year\n"
     ]
    }
   ],
   "source": [
    "last_five_years = data.tail(5)\n",
    "\n",
    "last_two_years = data.tail(2)\n",
    "\n",
    "salary_for_5 = last_five_years['В національній валюті'].sum()\n",
    "\n",
    "salary_for_2 = last_two_years['В національній валюті'].sum()\n",
    "\n",
    "if salary_for_2 > salary_for_5:\n",
    "    result = \"last 2 years > last 5 year\"\n",
    "elif salary_for_2 < salary_for_5:\n",
    "    result = \"last 2 years < last 5 year\"\n",
    "else:\n",
    "    result = \"last 2 years = last 5 year\"\n",
    "\n",
    "print(result)"
   ]
  },
  {
   "cell_type": "markdown",
   "id": "1af0cb77",
   "metadata": {},
   "source": [
    "***Висновок:*** *на практичній роботі я поглибив знання з мови програмування Python, використовуючи бібліотеку \"pandas\". Протягом роботи я виконував різні завдання зі створення та обробки таблиць, виконував додавання та видалення елементів таблиць, виконував побудову графіків за даними таблиць*"
   ]
  },
  {
   "cell_type": "code",
   "execution_count": null,
   "id": "d01150fe",
   "metadata": {},
   "outputs": [],
   "source": []
  }
 ],
 "metadata": {
  "kernelspec": {
   "display_name": "Python 3 (ipykernel)",
   "language": "python",
   "name": "python3"
  },
  "language_info": {
   "codemirror_mode": {
    "name": "ipython",
    "version": 3
   },
   "file_extension": ".py",
   "mimetype": "text/x-python",
   "name": "python",
   "nbconvert_exporter": "python",
   "pygments_lexer": "ipython3",
   "version": "3.11.4"
  }
 },
 "nbformat": 4,
 "nbformat_minor": 5
}
